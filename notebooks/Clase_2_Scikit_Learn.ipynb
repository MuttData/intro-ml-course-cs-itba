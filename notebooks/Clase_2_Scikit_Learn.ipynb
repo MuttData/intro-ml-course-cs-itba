{
 "cells": [
  {
   "cell_type": "markdown",
   "id": "0d3b5d99-ec2a-407b-a06a-bb604db26b51",
   "metadata": {},
   "source": [
    "# Clase 2: Introducción a Scikit-Learn y Aplicación"
   ]
  },
  {
   "cell_type": "markdown",
   "id": "3ba7c090-b234-4944-b250-07de56e7ea1a",
   "metadata": {},
   "source": [
    "En este notebook vamos a profundizar sobre los siguientes temas vistos hasta la clase 2 con foco en ponerlos en práctica. Este notebook trabaja sobre:\n",
    "\n",
    "- Introducción a Scikit-learn\n",
    "- Feature engineering (imputaciones, encodings, preprocesamientos)\n",
    "- Validación cruzada\n",
    "- Métricas\n",
    "- Regresión lineal\n",
    "- Introducción a modelos basados en árboles"
   ]
  },
  {
   "cell_type": "code",
   "execution_count": 1,
   "id": "47848094-e17c-43e4-bcbf-44823a24be75",
   "metadata": {},
   "outputs": [],
   "source": [
    "import pandas as pd\n",
    "import numpy as np"
   ]
  },
  {
   "cell_type": "markdown",
   "id": "4b3e4724-0978-4110-8df1-4d7fc28a3c37",
   "metadata": {},
   "source": [
    "## Bajemos unos datos!"
   ]
  },
  {
   "cell_type": "code",
   "execution_count": 2,
   "id": "9e27a579-4823-4116-b983-2ebe4dd39f26",
   "metadata": {},
   "outputs": [],
   "source": [
    "# Obtenemos el dataset del repositorio original del libro\n",
    "URL = 'https://raw.githubusercontent.com/stedy/Machine-Learning-with-R-datasets/master/insurance.csv'\n",
    "insurance_data = pd.read_csv(URL)\n"
   ]
  },
  {
   "cell_type": "code",
   "execution_count": 3,
   "id": "3ff0426d-3305-4a21-93a3-ec60596f4cf4",
   "metadata": {},
   "outputs": [
    {
     "data": {
      "text/html": [
       "<div>\n",
       "<style scoped>\n",
       "    .dataframe tbody tr th:only-of-type {\n",
       "        vertical-align: middle;\n",
       "    }\n",
       "\n",
       "    .dataframe tbody tr th {\n",
       "        vertical-align: top;\n",
       "    }\n",
       "\n",
       "    .dataframe thead th {\n",
       "        text-align: right;\n",
       "    }\n",
       "</style>\n",
       "<table border=\"1\" class=\"dataframe\">\n",
       "  <thead>\n",
       "    <tr style=\"text-align: right;\">\n",
       "      <th></th>\n",
       "      <th>age</th>\n",
       "      <th>sex</th>\n",
       "      <th>bmi</th>\n",
       "      <th>children</th>\n",
       "      <th>smoker</th>\n",
       "      <th>region</th>\n",
       "      <th>charges</th>\n",
       "    </tr>\n",
       "  </thead>\n",
       "  <tbody>\n",
       "    <tr>\n",
       "      <th>0</th>\n",
       "      <td>19</td>\n",
       "      <td>female</td>\n",
       "      <td>27.900</td>\n",
       "      <td>0</td>\n",
       "      <td>yes</td>\n",
       "      <td>southwest</td>\n",
       "      <td>16884.92400</td>\n",
       "    </tr>\n",
       "    <tr>\n",
       "      <th>1</th>\n",
       "      <td>18</td>\n",
       "      <td>male</td>\n",
       "      <td>33.770</td>\n",
       "      <td>1</td>\n",
       "      <td>no</td>\n",
       "      <td>southeast</td>\n",
       "      <td>1725.55230</td>\n",
       "    </tr>\n",
       "    <tr>\n",
       "      <th>2</th>\n",
       "      <td>28</td>\n",
       "      <td>male</td>\n",
       "      <td>33.000</td>\n",
       "      <td>3</td>\n",
       "      <td>no</td>\n",
       "      <td>southeast</td>\n",
       "      <td>4449.46200</td>\n",
       "    </tr>\n",
       "    <tr>\n",
       "      <th>3</th>\n",
       "      <td>33</td>\n",
       "      <td>male</td>\n",
       "      <td>22.705</td>\n",
       "      <td>0</td>\n",
       "      <td>no</td>\n",
       "      <td>northwest</td>\n",
       "      <td>21984.47061</td>\n",
       "    </tr>\n",
       "    <tr>\n",
       "      <th>4</th>\n",
       "      <td>32</td>\n",
       "      <td>male</td>\n",
       "      <td>28.880</td>\n",
       "      <td>0</td>\n",
       "      <td>no</td>\n",
       "      <td>northwest</td>\n",
       "      <td>3866.85520</td>\n",
       "    </tr>\n",
       "    <tr>\n",
       "      <th>...</th>\n",
       "      <td>...</td>\n",
       "      <td>...</td>\n",
       "      <td>...</td>\n",
       "      <td>...</td>\n",
       "      <td>...</td>\n",
       "      <td>...</td>\n",
       "      <td>...</td>\n",
       "    </tr>\n",
       "    <tr>\n",
       "      <th>1333</th>\n",
       "      <td>50</td>\n",
       "      <td>male</td>\n",
       "      <td>30.970</td>\n",
       "      <td>3</td>\n",
       "      <td>no</td>\n",
       "      <td>northwest</td>\n",
       "      <td>10600.54830</td>\n",
       "    </tr>\n",
       "    <tr>\n",
       "      <th>1334</th>\n",
       "      <td>18</td>\n",
       "      <td>female</td>\n",
       "      <td>31.920</td>\n",
       "      <td>0</td>\n",
       "      <td>no</td>\n",
       "      <td>northeast</td>\n",
       "      <td>2205.98080</td>\n",
       "    </tr>\n",
       "    <tr>\n",
       "      <th>1335</th>\n",
       "      <td>18</td>\n",
       "      <td>female</td>\n",
       "      <td>36.850</td>\n",
       "      <td>0</td>\n",
       "      <td>no</td>\n",
       "      <td>southeast</td>\n",
       "      <td>1629.83350</td>\n",
       "    </tr>\n",
       "    <tr>\n",
       "      <th>1336</th>\n",
       "      <td>21</td>\n",
       "      <td>female</td>\n",
       "      <td>25.800</td>\n",
       "      <td>0</td>\n",
       "      <td>no</td>\n",
       "      <td>southwest</td>\n",
       "      <td>2007.94500</td>\n",
       "    </tr>\n",
       "    <tr>\n",
       "      <th>1337</th>\n",
       "      <td>61</td>\n",
       "      <td>female</td>\n",
       "      <td>29.070</td>\n",
       "      <td>0</td>\n",
       "      <td>yes</td>\n",
       "      <td>northwest</td>\n",
       "      <td>29141.36030</td>\n",
       "    </tr>\n",
       "  </tbody>\n",
       "</table>\n",
       "<p>1338 rows × 7 columns</p>\n",
       "</div>"
      ],
      "text/plain": [
       "      age     sex     bmi  children smoker     region      charges\n",
       "0      19  female  27.900         0    yes  southwest  16884.92400\n",
       "1      18    male  33.770         1     no  southeast   1725.55230\n",
       "2      28    male  33.000         3     no  southeast   4449.46200\n",
       "3      33    male  22.705         0     no  northwest  21984.47061\n",
       "4      32    male  28.880         0     no  northwest   3866.85520\n",
       "...   ...     ...     ...       ...    ...        ...          ...\n",
       "1333   50    male  30.970         3     no  northwest  10600.54830\n",
       "1334   18  female  31.920         0     no  northeast   2205.98080\n",
       "1335   18  female  36.850         0     no  southeast   1629.83350\n",
       "1336   21  female  25.800         0     no  southwest   2007.94500\n",
       "1337   61  female  29.070         0    yes  northwest  29141.36030\n",
       "\n",
       "[1338 rows x 7 columns]"
      ]
     },
     "execution_count": 3,
     "metadata": {},
     "output_type": "execute_result"
    }
   ],
   "source": [
    "insurance_data"
   ]
  },
  {
   "cell_type": "markdown",
   "id": "21fe3f0c-fc26-4632-9233-319ea1773648",
   "metadata": {},
   "source": [
    "Veamos si hay datos faltantes, y algunas estadísticas descriptivas de cada atributo:"
   ]
  },
  {
   "cell_type": "code",
   "execution_count": 4,
   "id": "6fefb91e-fdb7-4df6-a313-080f37b51109",
   "metadata": {},
   "outputs": [
    {
     "data": {
      "text/html": [
       "<div>\n",
       "<style scoped>\n",
       "    .dataframe tbody tr th:only-of-type {\n",
       "        vertical-align: middle;\n",
       "    }\n",
       "\n",
       "    .dataframe tbody tr th {\n",
       "        vertical-align: top;\n",
       "    }\n",
       "\n",
       "    .dataframe thead th {\n",
       "        text-align: right;\n",
       "    }\n",
       "</style>\n",
       "<table border=\"1\" class=\"dataframe\">\n",
       "  <thead>\n",
       "    <tr style=\"text-align: right;\">\n",
       "      <th></th>\n",
       "      <th>age</th>\n",
       "      <th>sex</th>\n",
       "      <th>bmi</th>\n",
       "      <th>children</th>\n",
       "      <th>smoker</th>\n",
       "      <th>region</th>\n",
       "      <th>charges</th>\n",
       "    </tr>\n",
       "  </thead>\n",
       "  <tbody>\n",
       "    <tr>\n",
       "      <th>count</th>\n",
       "      <td>1338.000000</td>\n",
       "      <td>1338</td>\n",
       "      <td>1338.000000</td>\n",
       "      <td>1338.000000</td>\n",
       "      <td>1338</td>\n",
       "      <td>1338</td>\n",
       "      <td>1338.000000</td>\n",
       "    </tr>\n",
       "    <tr>\n",
       "      <th>unique</th>\n",
       "      <td>NaN</td>\n",
       "      <td>2</td>\n",
       "      <td>NaN</td>\n",
       "      <td>NaN</td>\n",
       "      <td>2</td>\n",
       "      <td>4</td>\n",
       "      <td>NaN</td>\n",
       "    </tr>\n",
       "    <tr>\n",
       "      <th>top</th>\n",
       "      <td>NaN</td>\n",
       "      <td>male</td>\n",
       "      <td>NaN</td>\n",
       "      <td>NaN</td>\n",
       "      <td>no</td>\n",
       "      <td>southeast</td>\n",
       "      <td>NaN</td>\n",
       "    </tr>\n",
       "    <tr>\n",
       "      <th>freq</th>\n",
       "      <td>NaN</td>\n",
       "      <td>676</td>\n",
       "      <td>NaN</td>\n",
       "      <td>NaN</td>\n",
       "      <td>1064</td>\n",
       "      <td>364</td>\n",
       "      <td>NaN</td>\n",
       "    </tr>\n",
       "    <tr>\n",
       "      <th>mean</th>\n",
       "      <td>39.207025</td>\n",
       "      <td>NaN</td>\n",
       "      <td>30.663397</td>\n",
       "      <td>1.094918</td>\n",
       "      <td>NaN</td>\n",
       "      <td>NaN</td>\n",
       "      <td>13270.422265</td>\n",
       "    </tr>\n",
       "    <tr>\n",
       "      <th>std</th>\n",
       "      <td>14.049960</td>\n",
       "      <td>NaN</td>\n",
       "      <td>6.098187</td>\n",
       "      <td>1.205493</td>\n",
       "      <td>NaN</td>\n",
       "      <td>NaN</td>\n",
       "      <td>12110.011237</td>\n",
       "    </tr>\n",
       "    <tr>\n",
       "      <th>min</th>\n",
       "      <td>18.000000</td>\n",
       "      <td>NaN</td>\n",
       "      <td>15.960000</td>\n",
       "      <td>0.000000</td>\n",
       "      <td>NaN</td>\n",
       "      <td>NaN</td>\n",
       "      <td>1121.873900</td>\n",
       "    </tr>\n",
       "    <tr>\n",
       "      <th>25%</th>\n",
       "      <td>27.000000</td>\n",
       "      <td>NaN</td>\n",
       "      <td>26.296250</td>\n",
       "      <td>0.000000</td>\n",
       "      <td>NaN</td>\n",
       "      <td>NaN</td>\n",
       "      <td>4740.287150</td>\n",
       "    </tr>\n",
       "    <tr>\n",
       "      <th>50%</th>\n",
       "      <td>39.000000</td>\n",
       "      <td>NaN</td>\n",
       "      <td>30.400000</td>\n",
       "      <td>1.000000</td>\n",
       "      <td>NaN</td>\n",
       "      <td>NaN</td>\n",
       "      <td>9382.033000</td>\n",
       "    </tr>\n",
       "    <tr>\n",
       "      <th>75%</th>\n",
       "      <td>51.000000</td>\n",
       "      <td>NaN</td>\n",
       "      <td>34.693750</td>\n",
       "      <td>2.000000</td>\n",
       "      <td>NaN</td>\n",
       "      <td>NaN</td>\n",
       "      <td>16639.912515</td>\n",
       "    </tr>\n",
       "    <tr>\n",
       "      <th>max</th>\n",
       "      <td>64.000000</td>\n",
       "      <td>NaN</td>\n",
       "      <td>53.130000</td>\n",
       "      <td>5.000000</td>\n",
       "      <td>NaN</td>\n",
       "      <td>NaN</td>\n",
       "      <td>63770.428010</td>\n",
       "    </tr>\n",
       "  </tbody>\n",
       "</table>\n",
       "</div>"
      ],
      "text/plain": [
       "                age   sex          bmi     children smoker     region  \\\n",
       "count   1338.000000  1338  1338.000000  1338.000000   1338       1338   \n",
       "unique          NaN     2          NaN          NaN      2          4   \n",
       "top             NaN  male          NaN          NaN     no  southeast   \n",
       "freq            NaN   676          NaN          NaN   1064        364   \n",
       "mean      39.207025   NaN    30.663397     1.094918    NaN        NaN   \n",
       "std       14.049960   NaN     6.098187     1.205493    NaN        NaN   \n",
       "min       18.000000   NaN    15.960000     0.000000    NaN        NaN   \n",
       "25%       27.000000   NaN    26.296250     0.000000    NaN        NaN   \n",
       "50%       39.000000   NaN    30.400000     1.000000    NaN        NaN   \n",
       "75%       51.000000   NaN    34.693750     2.000000    NaN        NaN   \n",
       "max       64.000000   NaN    53.130000     5.000000    NaN        NaN   \n",
       "\n",
       "             charges  \n",
       "count    1338.000000  \n",
       "unique           NaN  \n",
       "top              NaN  \n",
       "freq             NaN  \n",
       "mean    13270.422265  \n",
       "std     12110.011237  \n",
       "min      1121.873900  \n",
       "25%      4740.287150  \n",
       "50%      9382.033000  \n",
       "75%     16639.912515  \n",
       "max     63770.428010  "
      ]
     },
     "execution_count": 4,
     "metadata": {},
     "output_type": "execute_result"
    }
   ],
   "source": [
    "insurance_data.describe(include=\"all\")"
   ]
  },
  {
   "cell_type": "markdown",
   "id": "cbeccf1f-336b-4cb5-9ea5-f4d7d448a233",
   "metadata": {},
   "source": [
    "No hay datos faltantes! Introduzcamos algunos:"
   ]
  },
  {
   "cell_type": "code",
   "execution_count": 5,
   "id": "14dbed05-cd8b-4dec-8434-529486f99014",
   "metadata": {},
   "outputs": [
    {
     "data": {
      "text/html": [
       "<div>\n",
       "<style scoped>\n",
       "    .dataframe tbody tr th:only-of-type {\n",
       "        vertical-align: middle;\n",
       "    }\n",
       "\n",
       "    .dataframe tbody tr th {\n",
       "        vertical-align: top;\n",
       "    }\n",
       "\n",
       "    .dataframe thead th {\n",
       "        text-align: right;\n",
       "    }\n",
       "</style>\n",
       "<table border=\"1\" class=\"dataframe\">\n",
       "  <thead>\n",
       "    <tr style=\"text-align: right;\">\n",
       "      <th></th>\n",
       "      <th>age</th>\n",
       "      <th>sex</th>\n",
       "      <th>bmi</th>\n",
       "      <th>children</th>\n",
       "      <th>smoker</th>\n",
       "      <th>region</th>\n",
       "      <th>charges</th>\n",
       "    </tr>\n",
       "  </thead>\n",
       "  <tbody>\n",
       "    <tr>\n",
       "      <th>count</th>\n",
       "      <td>1338.000000</td>\n",
       "      <td>1338</td>\n",
       "      <td>1268.000000</td>\n",
       "      <td>1338.000000</td>\n",
       "      <td>1338</td>\n",
       "      <td>1338</td>\n",
       "      <td>1338.000000</td>\n",
       "    </tr>\n",
       "    <tr>\n",
       "      <th>unique</th>\n",
       "      <td>NaN</td>\n",
       "      <td>2</td>\n",
       "      <td>NaN</td>\n",
       "      <td>NaN</td>\n",
       "      <td>2</td>\n",
       "      <td>4</td>\n",
       "      <td>NaN</td>\n",
       "    </tr>\n",
       "    <tr>\n",
       "      <th>top</th>\n",
       "      <td>NaN</td>\n",
       "      <td>male</td>\n",
       "      <td>NaN</td>\n",
       "      <td>NaN</td>\n",
       "      <td>no</td>\n",
       "      <td>southeast</td>\n",
       "      <td>NaN</td>\n",
       "    </tr>\n",
       "    <tr>\n",
       "      <th>freq</th>\n",
       "      <td>NaN</td>\n",
       "      <td>676</td>\n",
       "      <td>NaN</td>\n",
       "      <td>NaN</td>\n",
       "      <td>1064</td>\n",
       "      <td>364</td>\n",
       "      <td>NaN</td>\n",
       "    </tr>\n",
       "    <tr>\n",
       "      <th>mean</th>\n",
       "      <td>39.207025</td>\n",
       "      <td>NaN</td>\n",
       "      <td>30.595134</td>\n",
       "      <td>1.094918</td>\n",
       "      <td>NaN</td>\n",
       "      <td>NaN</td>\n",
       "      <td>13270.422265</td>\n",
       "    </tr>\n",
       "    <tr>\n",
       "      <th>std</th>\n",
       "      <td>14.049960</td>\n",
       "      <td>NaN</td>\n",
       "      <td>6.119263</td>\n",
       "      <td>1.205493</td>\n",
       "      <td>NaN</td>\n",
       "      <td>NaN</td>\n",
       "      <td>12110.011237</td>\n",
       "    </tr>\n",
       "    <tr>\n",
       "      <th>min</th>\n",
       "      <td>18.000000</td>\n",
       "      <td>NaN</td>\n",
       "      <td>15.960000</td>\n",
       "      <td>0.000000</td>\n",
       "      <td>NaN</td>\n",
       "      <td>NaN</td>\n",
       "      <td>1121.873900</td>\n",
       "    </tr>\n",
       "    <tr>\n",
       "      <th>25%</th>\n",
       "      <td>27.000000</td>\n",
       "      <td>NaN</td>\n",
       "      <td>26.220000</td>\n",
       "      <td>0.000000</td>\n",
       "      <td>NaN</td>\n",
       "      <td>NaN</td>\n",
       "      <td>4740.287150</td>\n",
       "    </tr>\n",
       "    <tr>\n",
       "      <th>50%</th>\n",
       "      <td>39.000000</td>\n",
       "      <td>NaN</td>\n",
       "      <td>30.275000</td>\n",
       "      <td>1.000000</td>\n",
       "      <td>NaN</td>\n",
       "      <td>NaN</td>\n",
       "      <td>9382.033000</td>\n",
       "    </tr>\n",
       "    <tr>\n",
       "      <th>75%</th>\n",
       "      <td>51.000000</td>\n",
       "      <td>NaN</td>\n",
       "      <td>34.485000</td>\n",
       "      <td>2.000000</td>\n",
       "      <td>NaN</td>\n",
       "      <td>NaN</td>\n",
       "      <td>16639.912515</td>\n",
       "    </tr>\n",
       "    <tr>\n",
       "      <th>max</th>\n",
       "      <td>64.000000</td>\n",
       "      <td>NaN</td>\n",
       "      <td>53.130000</td>\n",
       "      <td>5.000000</td>\n",
       "      <td>NaN</td>\n",
       "      <td>NaN</td>\n",
       "      <td>63770.428010</td>\n",
       "    </tr>\n",
       "  </tbody>\n",
       "</table>\n",
       "</div>"
      ],
      "text/plain": [
       "                age   sex          bmi     children smoker     region  \\\n",
       "count   1338.000000  1338  1268.000000  1338.000000   1338       1338   \n",
       "unique          NaN     2          NaN          NaN      2          4   \n",
       "top             NaN  male          NaN          NaN     no  southeast   \n",
       "freq            NaN   676          NaN          NaN   1064        364   \n",
       "mean      39.207025   NaN    30.595134     1.094918    NaN        NaN   \n",
       "std       14.049960   NaN     6.119263     1.205493    NaN        NaN   \n",
       "min       18.000000   NaN    15.960000     0.000000    NaN        NaN   \n",
       "25%       27.000000   NaN    26.220000     0.000000    NaN        NaN   \n",
       "50%       39.000000   NaN    30.275000     1.000000    NaN        NaN   \n",
       "75%       51.000000   NaN    34.485000     2.000000    NaN        NaN   \n",
       "max       64.000000   NaN    53.130000     5.000000    NaN        NaN   \n",
       "\n",
       "             charges  \n",
       "count    1338.000000  \n",
       "unique           NaN  \n",
       "top              NaN  \n",
       "freq             NaN  \n",
       "mean    13270.422265  \n",
       "std     12110.011237  \n",
       "min      1121.873900  \n",
       "25%      4740.287150  \n",
       "50%      9382.033000  \n",
       "75%     16639.912515  \n",
       "max     63770.428010  "
      ]
     },
     "execution_count": 5,
     "metadata": {},
     "output_type": "execute_result"
    }
   ],
   "source": [
    "insurance_data_with_missing = insurance_data.copy()\n",
    "insurance_data_with_missing.loc[np.random.random(len(insurance_data)) < 0.05, \"bmi\"] = np.nan\n",
    "insurance_data_with_missing.describe(include=\"all\")"
   ]
  },
  {
   "cell_type": "markdown",
   "id": "c142797a-76b8-4f74-95ea-4733905f51a0",
   "metadata": {},
   "source": [
    "## Separación en train y test"
   ]
  },
  {
   "cell_type": "markdown",
   "id": "4167dec6-0df5-4878-a172-3fd960619847",
   "metadata": {},
   "source": [
    "Para evitar sesgos, no sólo el entrenamiento del modelo debe ser sobre un subconjunto de los datos apartado. También los análisis que hagamos y el feature engineering que implementemos."
   ]
  },
  {
   "cell_type": "code",
   "execution_count": 6,
   "id": "72ee9b3e-a51b-4569-83ea-72bae0d2685e",
   "metadata": {},
   "outputs": [],
   "source": [
    "from sklearn.model_selection import train_test_split"
   ]
  },
  {
   "cell_type": "code",
   "execution_count": 7,
   "id": "989e36f8-861a-4639-b399-1e35b2c1dd8b",
   "metadata": {},
   "outputs": [
    {
     "data": {
      "text/html": [
       "<div>\n",
       "<style scoped>\n",
       "    .dataframe tbody tr th:only-of-type {\n",
       "        vertical-align: middle;\n",
       "    }\n",
       "\n",
       "    .dataframe tbody tr th {\n",
       "        vertical-align: top;\n",
       "    }\n",
       "\n",
       "    .dataframe thead th {\n",
       "        text-align: right;\n",
       "    }\n",
       "</style>\n",
       "<table border=\"1\" class=\"dataframe\">\n",
       "  <thead>\n",
       "    <tr style=\"text-align: right;\">\n",
       "      <th></th>\n",
       "      <th>age</th>\n",
       "      <th>sex</th>\n",
       "      <th>bmi</th>\n",
       "      <th>children</th>\n",
       "      <th>smoker</th>\n",
       "      <th>region</th>\n",
       "      <th>charges</th>\n",
       "    </tr>\n",
       "  </thead>\n",
       "  <tbody>\n",
       "    <tr>\n",
       "      <th>332</th>\n",
       "      <td>61</td>\n",
       "      <td>female</td>\n",
       "      <td>31.160</td>\n",
       "      <td>0</td>\n",
       "      <td>no</td>\n",
       "      <td>northwest</td>\n",
       "      <td>13429.03540</td>\n",
       "    </tr>\n",
       "    <tr>\n",
       "      <th>355</th>\n",
       "      <td>46</td>\n",
       "      <td>male</td>\n",
       "      <td>27.600</td>\n",
       "      <td>0</td>\n",
       "      <td>no</td>\n",
       "      <td>southwest</td>\n",
       "      <td>24603.04837</td>\n",
       "    </tr>\n",
       "    <tr>\n",
       "      <th>138</th>\n",
       "      <td>54</td>\n",
       "      <td>female</td>\n",
       "      <td>31.900</td>\n",
       "      <td>3</td>\n",
       "      <td>no</td>\n",
       "      <td>southeast</td>\n",
       "      <td>27322.73386</td>\n",
       "    </tr>\n",
       "    <tr>\n",
       "      <th>381</th>\n",
       "      <td>55</td>\n",
       "      <td>male</td>\n",
       "      <td>30.685</td>\n",
       "      <td>0</td>\n",
       "      <td>yes</td>\n",
       "      <td>northeast</td>\n",
       "      <td>42303.69215</td>\n",
       "    </tr>\n",
       "    <tr>\n",
       "      <th>292</th>\n",
       "      <td>25</td>\n",
       "      <td>male</td>\n",
       "      <td>45.540</td>\n",
       "      <td>2</td>\n",
       "      <td>yes</td>\n",
       "      <td>southeast</td>\n",
       "      <td>42112.23560</td>\n",
       "    </tr>\n",
       "  </tbody>\n",
       "</table>\n",
       "</div>"
      ],
      "text/plain": [
       "     age     sex     bmi  children smoker     region      charges\n",
       "332   61  female  31.160         0     no  northwest  13429.03540\n",
       "355   46    male  27.600         0     no  southwest  24603.04837\n",
       "138   54  female  31.900         3     no  southeast  27322.73386\n",
       "381   55    male  30.685         0    yes  northeast  42303.69215\n",
       "292   25    male  45.540         2    yes  southeast  42112.23560"
      ]
     },
     "execution_count": 7,
     "metadata": {},
     "output_type": "execute_result"
    }
   ],
   "source": [
    "train, test = train_test_split(\n",
    "    insurance_data_with_missing, \n",
    "    test_size=0.3, \n",
    "    random_state=42, \n",
    "    shuffle=True\n",
    ")\n",
    "train.head()"
   ]
  },
  {
   "cell_type": "code",
   "execution_count": 8,
   "id": "202e15af-6b90-4b25-868c-ed23fee641d9",
   "metadata": {},
   "outputs": [
    {
     "data": {
      "text/html": [
       "<div>\n",
       "<style scoped>\n",
       "    .dataframe tbody tr th:only-of-type {\n",
       "        vertical-align: middle;\n",
       "    }\n",
       "\n",
       "    .dataframe tbody tr th {\n",
       "        vertical-align: top;\n",
       "    }\n",
       "\n",
       "    .dataframe thead th {\n",
       "        text-align: right;\n",
       "    }\n",
       "</style>\n",
       "<table border=\"1\" class=\"dataframe\">\n",
       "  <thead>\n",
       "    <tr style=\"text-align: right;\">\n",
       "      <th></th>\n",
       "      <th>age</th>\n",
       "      <th>sex</th>\n",
       "      <th>bmi</th>\n",
       "      <th>children</th>\n",
       "      <th>smoker</th>\n",
       "      <th>region</th>\n",
       "      <th>charges</th>\n",
       "    </tr>\n",
       "  </thead>\n",
       "  <tbody>\n",
       "    <tr>\n",
       "      <th>count</th>\n",
       "      <td>936.00000</td>\n",
       "      <td>936</td>\n",
       "      <td>893.000000</td>\n",
       "      <td>936.000000</td>\n",
       "      <td>936</td>\n",
       "      <td>936</td>\n",
       "      <td>936.000000</td>\n",
       "    </tr>\n",
       "    <tr>\n",
       "      <th>unique</th>\n",
       "      <td>NaN</td>\n",
       "      <td>2</td>\n",
       "      <td>NaN</td>\n",
       "      <td>NaN</td>\n",
       "      <td>2</td>\n",
       "      <td>4</td>\n",
       "      <td>NaN</td>\n",
       "    </tr>\n",
       "    <tr>\n",
       "      <th>top</th>\n",
       "      <td>NaN</td>\n",
       "      <td>male</td>\n",
       "      <td>NaN</td>\n",
       "      <td>NaN</td>\n",
       "      <td>no</td>\n",
       "      <td>southeast</td>\n",
       "      <td>NaN</td>\n",
       "    </tr>\n",
       "    <tr>\n",
       "      <th>freq</th>\n",
       "      <td>NaN</td>\n",
       "      <td>480</td>\n",
       "      <td>NaN</td>\n",
       "      <td>NaN</td>\n",
       "      <td>741</td>\n",
       "      <td>244</td>\n",
       "      <td>NaN</td>\n",
       "    </tr>\n",
       "    <tr>\n",
       "      <th>mean</th>\n",
       "      <td>39.19765</td>\n",
       "      <td>NaN</td>\n",
       "      <td>30.487800</td>\n",
       "      <td>1.108974</td>\n",
       "      <td>NaN</td>\n",
       "      <td>NaN</td>\n",
       "      <td>13379.157307</td>\n",
       "    </tr>\n",
       "    <tr>\n",
       "      <th>std</th>\n",
       "      <td>14.12399</td>\n",
       "      <td>NaN</td>\n",
       "      <td>6.006687</td>\n",
       "      <td>1.212627</td>\n",
       "      <td>NaN</td>\n",
       "      <td>NaN</td>\n",
       "      <td>12108.882855</td>\n",
       "    </tr>\n",
       "    <tr>\n",
       "      <th>min</th>\n",
       "      <td>18.00000</td>\n",
       "      <td>NaN</td>\n",
       "      <td>15.960000</td>\n",
       "      <td>0.000000</td>\n",
       "      <td>NaN</td>\n",
       "      <td>NaN</td>\n",
       "      <td>1121.873900</td>\n",
       "    </tr>\n",
       "    <tr>\n",
       "      <th>25%</th>\n",
       "      <td>27.00000</td>\n",
       "      <td>NaN</td>\n",
       "      <td>26.220000</td>\n",
       "      <td>0.000000</td>\n",
       "      <td>NaN</td>\n",
       "      <td>NaN</td>\n",
       "      <td>4819.842913</td>\n",
       "    </tr>\n",
       "    <tr>\n",
       "      <th>50%</th>\n",
       "      <td>39.00000</td>\n",
       "      <td>NaN</td>\n",
       "      <td>30.200000</td>\n",
       "      <td>1.000000</td>\n",
       "      <td>NaN</td>\n",
       "      <td>NaN</td>\n",
       "      <td>9526.937700</td>\n",
       "    </tr>\n",
       "    <tr>\n",
       "      <th>75%</th>\n",
       "      <td>52.00000</td>\n",
       "      <td>NaN</td>\n",
       "      <td>34.400000</td>\n",
       "      <td>2.000000</td>\n",
       "      <td>NaN</td>\n",
       "      <td>NaN</td>\n",
       "      <td>17222.181875</td>\n",
       "    </tr>\n",
       "    <tr>\n",
       "      <th>max</th>\n",
       "      <td>64.00000</td>\n",
       "      <td>NaN</td>\n",
       "      <td>53.130000</td>\n",
       "      <td>5.000000</td>\n",
       "      <td>NaN</td>\n",
       "      <td>NaN</td>\n",
       "      <td>62592.873090</td>\n",
       "    </tr>\n",
       "  </tbody>\n",
       "</table>\n",
       "</div>"
      ],
      "text/plain": [
       "              age   sex         bmi    children smoker     region  \\\n",
       "count   936.00000   936  893.000000  936.000000    936        936   \n",
       "unique        NaN     2         NaN         NaN      2          4   \n",
       "top           NaN  male         NaN         NaN     no  southeast   \n",
       "freq          NaN   480         NaN         NaN    741        244   \n",
       "mean     39.19765   NaN   30.487800    1.108974    NaN        NaN   \n",
       "std      14.12399   NaN    6.006687    1.212627    NaN        NaN   \n",
       "min      18.00000   NaN   15.960000    0.000000    NaN        NaN   \n",
       "25%      27.00000   NaN   26.220000    0.000000    NaN        NaN   \n",
       "50%      39.00000   NaN   30.200000    1.000000    NaN        NaN   \n",
       "75%      52.00000   NaN   34.400000    2.000000    NaN        NaN   \n",
       "max      64.00000   NaN   53.130000    5.000000    NaN        NaN   \n",
       "\n",
       "             charges  \n",
       "count     936.000000  \n",
       "unique           NaN  \n",
       "top              NaN  \n",
       "freq             NaN  \n",
       "mean    13379.157307  \n",
       "std     12108.882855  \n",
       "min      1121.873900  \n",
       "25%      4819.842913  \n",
       "50%      9526.937700  \n",
       "75%     17222.181875  \n",
       "max     62592.873090  "
      ]
     },
     "execution_count": 8,
     "metadata": {},
     "output_type": "execute_result"
    }
   ],
   "source": [
    "train.describe(include=\"all\")"
   ]
  },
  {
   "cell_type": "markdown",
   "id": "880ed349-c232-4053-95ea-466100eb6c0f",
   "metadata": {},
   "source": [
    "## Imputación de datos"
   ]
  },
  {
   "cell_type": "markdown",
   "id": "32080904-e8ec-4ef9-94e6-c987c5068eb9",
   "metadata": {},
   "source": [
    "Imputemos los datos faltantes con un promedio:"
   ]
  },
  {
   "cell_type": "code",
   "execution_count": 9,
   "id": "8a90c9de-3b30-47d7-ad2d-43156165240e",
   "metadata": {},
   "outputs": [],
   "source": [
    "from sklearn.impute import SimpleImputer"
   ]
  },
  {
   "cell_type": "code",
   "execution_count": 10,
   "id": "97713dc8-fc44-40a4-8558-37cd5fd7e016",
   "metadata": {},
   "outputs": [
    {
     "name": "stderr",
     "output_type": "stream",
     "text": [
      "/home/joaquintz/.cache/pypoetry/virtualenvs/wingman-ugQROf-l-py3.8/lib/python3.8/site-packages/pandas/core/indexing.py:1835: SettingWithCopyWarning: \n",
      "A value is trying to be set on a copy of a slice from a DataFrame.\n",
      "Try using .loc[row_indexer,col_indexer] = value instead\n",
      "\n",
      "See the caveats in the documentation: https://pandas.pydata.org/pandas-docs/stable/user_guide/indexing.html#returning-a-view-versus-a-copy\n",
      "  self._setitem_single_column(loc, value[:, i].tolist(), pi)\n"
     ]
    }
   ],
   "source": [
    "imp = SimpleImputer(missing_values=np.nan, strategy=\"mean\")\n",
    "train.loc[:, \"bmi\"] = imp.fit_transform(train.loc[:, [\"bmi\"]])"
   ]
  },
  {
   "cell_type": "markdown",
   "id": "24c85c2e-826b-4cc0-b25c-ef71c517e668",
   "metadata": {},
   "source": [
    "Ahora vemos que están todos los datos para BMI:"
   ]
  },
  {
   "cell_type": "code",
   "execution_count": 11,
   "id": "09cf79ff-993a-4a7f-8517-51806d17d841",
   "metadata": {},
   "outputs": [
    {
     "data": {
      "text/html": [
       "<div>\n",
       "<style scoped>\n",
       "    .dataframe tbody tr th:only-of-type {\n",
       "        vertical-align: middle;\n",
       "    }\n",
       "\n",
       "    .dataframe tbody tr th {\n",
       "        vertical-align: top;\n",
       "    }\n",
       "\n",
       "    .dataframe thead th {\n",
       "        text-align: right;\n",
       "    }\n",
       "</style>\n",
       "<table border=\"1\" class=\"dataframe\">\n",
       "  <thead>\n",
       "    <tr style=\"text-align: right;\">\n",
       "      <th></th>\n",
       "      <th>age</th>\n",
       "      <th>sex</th>\n",
       "      <th>bmi</th>\n",
       "      <th>children</th>\n",
       "      <th>smoker</th>\n",
       "      <th>region</th>\n",
       "      <th>charges</th>\n",
       "    </tr>\n",
       "  </thead>\n",
       "  <tbody>\n",
       "    <tr>\n",
       "      <th>count</th>\n",
       "      <td>936.00000</td>\n",
       "      <td>936</td>\n",
       "      <td>936.00000</td>\n",
       "      <td>936.000000</td>\n",
       "      <td>936</td>\n",
       "      <td>936</td>\n",
       "      <td>936.000000</td>\n",
       "    </tr>\n",
       "    <tr>\n",
       "      <th>unique</th>\n",
       "      <td>NaN</td>\n",
       "      <td>2</td>\n",
       "      <td>NaN</td>\n",
       "      <td>NaN</td>\n",
       "      <td>2</td>\n",
       "      <td>4</td>\n",
       "      <td>NaN</td>\n",
       "    </tr>\n",
       "    <tr>\n",
       "      <th>top</th>\n",
       "      <td>NaN</td>\n",
       "      <td>male</td>\n",
       "      <td>NaN</td>\n",
       "      <td>NaN</td>\n",
       "      <td>no</td>\n",
       "      <td>southeast</td>\n",
       "      <td>NaN</td>\n",
       "    </tr>\n",
       "    <tr>\n",
       "      <th>freq</th>\n",
       "      <td>NaN</td>\n",
       "      <td>480</td>\n",
       "      <td>NaN</td>\n",
       "      <td>NaN</td>\n",
       "      <td>741</td>\n",
       "      <td>244</td>\n",
       "      <td>NaN</td>\n",
       "    </tr>\n",
       "    <tr>\n",
       "      <th>mean</th>\n",
       "      <td>39.19765</td>\n",
       "      <td>NaN</td>\n",
       "      <td>30.48780</td>\n",
       "      <td>1.108974</td>\n",
       "      <td>NaN</td>\n",
       "      <td>NaN</td>\n",
       "      <td>13379.157307</td>\n",
       "    </tr>\n",
       "    <tr>\n",
       "      <th>std</th>\n",
       "      <td>14.12399</td>\n",
       "      <td>NaN</td>\n",
       "      <td>5.86694</td>\n",
       "      <td>1.212627</td>\n",
       "      <td>NaN</td>\n",
       "      <td>NaN</td>\n",
       "      <td>12108.882855</td>\n",
       "    </tr>\n",
       "    <tr>\n",
       "      <th>min</th>\n",
       "      <td>18.00000</td>\n",
       "      <td>NaN</td>\n",
       "      <td>15.96000</td>\n",
       "      <td>0.000000</td>\n",
       "      <td>NaN</td>\n",
       "      <td>NaN</td>\n",
       "      <td>1121.873900</td>\n",
       "    </tr>\n",
       "    <tr>\n",
       "      <th>25%</th>\n",
       "      <td>27.00000</td>\n",
       "      <td>NaN</td>\n",
       "      <td>26.41000</td>\n",
       "      <td>0.000000</td>\n",
       "      <td>NaN</td>\n",
       "      <td>NaN</td>\n",
       "      <td>4819.842913</td>\n",
       "    </tr>\n",
       "    <tr>\n",
       "      <th>50%</th>\n",
       "      <td>39.00000</td>\n",
       "      <td>NaN</td>\n",
       "      <td>30.48780</td>\n",
       "      <td>1.000000</td>\n",
       "      <td>NaN</td>\n",
       "      <td>NaN</td>\n",
       "      <td>9526.937700</td>\n",
       "    </tr>\n",
       "    <tr>\n",
       "      <th>75%</th>\n",
       "      <td>52.00000</td>\n",
       "      <td>NaN</td>\n",
       "      <td>34.20000</td>\n",
       "      <td>2.000000</td>\n",
       "      <td>NaN</td>\n",
       "      <td>NaN</td>\n",
       "      <td>17222.181875</td>\n",
       "    </tr>\n",
       "    <tr>\n",
       "      <th>max</th>\n",
       "      <td>64.00000</td>\n",
       "      <td>NaN</td>\n",
       "      <td>53.13000</td>\n",
       "      <td>5.000000</td>\n",
       "      <td>NaN</td>\n",
       "      <td>NaN</td>\n",
       "      <td>62592.873090</td>\n",
       "    </tr>\n",
       "  </tbody>\n",
       "</table>\n",
       "</div>"
      ],
      "text/plain": [
       "              age   sex        bmi    children smoker     region       charges\n",
       "count   936.00000   936  936.00000  936.000000    936        936    936.000000\n",
       "unique        NaN     2        NaN         NaN      2          4           NaN\n",
       "top           NaN  male        NaN         NaN     no  southeast           NaN\n",
       "freq          NaN   480        NaN         NaN    741        244           NaN\n",
       "mean     39.19765   NaN   30.48780    1.108974    NaN        NaN  13379.157307\n",
       "std      14.12399   NaN    5.86694    1.212627    NaN        NaN  12108.882855\n",
       "min      18.00000   NaN   15.96000    0.000000    NaN        NaN   1121.873900\n",
       "25%      27.00000   NaN   26.41000    0.000000    NaN        NaN   4819.842913\n",
       "50%      39.00000   NaN   30.48780    1.000000    NaN        NaN   9526.937700\n",
       "75%      52.00000   NaN   34.20000    2.000000    NaN        NaN  17222.181875\n",
       "max      64.00000   NaN   53.13000    5.000000    NaN        NaN  62592.873090"
      ]
     },
     "execution_count": 11,
     "metadata": {},
     "output_type": "execute_result"
    }
   ],
   "source": [
    "train.describe(include=\"all\")"
   ]
  },
  {
   "cell_type": "markdown",
   "id": "f6785ca0-8b6b-4930-99f1-4a72c59e2d33",
   "metadata": {},
   "source": [
    "## Encodings y preprocesamiento"
   ]
  },
  {
   "cell_type": "markdown",
   "id": "575059c0-5254-4d6d-985b-0b7f944624ea",
   "metadata": {},
   "source": [
    "Si vamos a utilizar una regresión lineal no podemos pasarle los atributos categóricos. Para no descartar esa información, deberíamos aplicar algún encoding:"
   ]
  },
  {
   "cell_type": "code",
   "execution_count": 12,
   "id": "7d123f5f-1f02-4549-8977-927e73049961",
   "metadata": {},
   "outputs": [],
   "source": [
    "from sklearn import preprocessing"
   ]
  },
  {
   "cell_type": "markdown",
   "id": "a3db7844-011a-452a-9921-adb3a456f8a1",
   "metadata": {},
   "source": [
    "### One Hot Encoding"
   ]
  },
  {
   "cell_type": "code",
   "execution_count": 35,
   "id": "c4b21c1b-2307-477f-a2c6-f4b7309802be",
   "metadata": {},
   "outputs": [
    {
     "data": {
      "text/html": [
       "<div>\n",
       "<style scoped>\n",
       "    .dataframe tbody tr th:only-of-type {\n",
       "        vertical-align: middle;\n",
       "    }\n",
       "\n",
       "    .dataframe tbody tr th {\n",
       "        vertical-align: top;\n",
       "    }\n",
       "\n",
       "    .dataframe thead th {\n",
       "        text-align: right;\n",
       "    }\n",
       "</style>\n",
       "<table border=\"1\" class=\"dataframe\">\n",
       "  <thead>\n",
       "    <tr style=\"text-align: right;\">\n",
       "      <th></th>\n",
       "      <th>smoker</th>\n",
       "      <th>region</th>\n",
       "      <th>sex</th>\n",
       "    </tr>\n",
       "  </thead>\n",
       "  <tbody>\n",
       "    <tr>\n",
       "      <th>332</th>\n",
       "      <td>no</td>\n",
       "      <td>northwest</td>\n",
       "      <td>female</td>\n",
       "    </tr>\n",
       "    <tr>\n",
       "      <th>355</th>\n",
       "      <td>no</td>\n",
       "      <td>southwest</td>\n",
       "      <td>male</td>\n",
       "    </tr>\n",
       "    <tr>\n",
       "      <th>138</th>\n",
       "      <td>no</td>\n",
       "      <td>southeast</td>\n",
       "      <td>female</td>\n",
       "    </tr>\n",
       "    <tr>\n",
       "      <th>381</th>\n",
       "      <td>yes</td>\n",
       "      <td>northeast</td>\n",
       "      <td>male</td>\n",
       "    </tr>\n",
       "    <tr>\n",
       "      <th>292</th>\n",
       "      <td>yes</td>\n",
       "      <td>southeast</td>\n",
       "      <td>male</td>\n",
       "    </tr>\n",
       "    <tr>\n",
       "      <th>...</th>\n",
       "      <td>...</td>\n",
       "      <td>...</td>\n",
       "      <td>...</td>\n",
       "    </tr>\n",
       "    <tr>\n",
       "      <th>1095</th>\n",
       "      <td>no</td>\n",
       "      <td>northeast</td>\n",
       "      <td>female</td>\n",
       "    </tr>\n",
       "    <tr>\n",
       "      <th>1130</th>\n",
       "      <td>no</td>\n",
       "      <td>southeast</td>\n",
       "      <td>female</td>\n",
       "    </tr>\n",
       "    <tr>\n",
       "      <th>1294</th>\n",
       "      <td>no</td>\n",
       "      <td>northeast</td>\n",
       "      <td>male</td>\n",
       "    </tr>\n",
       "    <tr>\n",
       "      <th>860</th>\n",
       "      <td>yes</td>\n",
       "      <td>southwest</td>\n",
       "      <td>female</td>\n",
       "    </tr>\n",
       "    <tr>\n",
       "      <th>1126</th>\n",
       "      <td>no</td>\n",
       "      <td>southwest</td>\n",
       "      <td>male</td>\n",
       "    </tr>\n",
       "  </tbody>\n",
       "</table>\n",
       "<p>936 rows × 3 columns</p>\n",
       "</div>"
      ],
      "text/plain": [
       "     smoker     region     sex\n",
       "332      no  northwest  female\n",
       "355      no  southwest    male\n",
       "138      no  southeast  female\n",
       "381     yes  northeast    male\n",
       "292     yes  southeast    male\n",
       "...     ...        ...     ...\n",
       "1095     no  northeast  female\n",
       "1130     no  southeast  female\n",
       "1294     no  northeast    male\n",
       "860     yes  southwest  female\n",
       "1126     no  southwest    male\n",
       "\n",
       "[936 rows x 3 columns]"
      ]
     },
     "execution_count": 35,
     "metadata": {},
     "output_type": "execute_result"
    }
   ],
   "source": [
    "train.loc[:, [\"smoker\", \"region\", \"sex\"]]"
   ]
  },
  {
   "cell_type": "code",
   "execution_count": 13,
   "id": "afdeb2a5-e8b3-4c6d-89d6-bef7027107de",
   "metadata": {},
   "outputs": [
    {
     "data": {
      "text/plain": [
       "array([[0., 0., 1., 0., 0., 0.],\n",
       "       [0., 0., 0., 0., 1., 1.],\n",
       "       [0., 0., 0., 1., 0., 0.],\n",
       "       ...,\n",
       "       [0., 1., 0., 0., 0., 1.],\n",
       "       [1., 0., 0., 0., 1., 0.],\n",
       "       [0., 0., 0., 0., 1., 1.]])"
      ]
     },
     "execution_count": 13,
     "metadata": {},
     "output_type": "execute_result"
    }
   ],
   "source": [
    "ohe = preprocessing.OneHotEncoder(drop=\"if_binary\", sparse=False)\n",
    "ohe.fit_transform(train.loc[:, [\"smoker\", \"region\", \"sex\"]])"
   ]
  },
  {
   "cell_type": "markdown",
   "id": "07407181-ad4a-49c8-a593-cbb68baa0c91",
   "metadata": {},
   "source": [
    "### Escalado"
   ]
  },
  {
   "cell_type": "markdown",
   "id": "657d4e30-87e1-4d2a-b8d6-f2f264ee1cd3",
   "metadata": {},
   "source": [
    "Como la regresión lineal no puede ajustar una ordenada por cada variable, si una variable no está normalizada puede ser más difícil de utilizar:"
   ]
  },
  {
   "cell_type": "code",
   "execution_count": 14,
   "id": "6544abc9-93b2-46a7-b517-bd66bd796a1d",
   "metadata": {},
   "outputs": [
    {
     "data": {
      "text/plain": [
       "array([[ 1.54446486,  0.11463554, -0.91501097],\n",
       "       [ 0.48187425, -0.49247879, -0.91501097],\n",
       "       [ 1.04858924,  0.24083346,  1.56027883],\n",
       "       ...,\n",
       "       [ 1.33194673, -0.9060328 , -0.91501097],\n",
       "       [-0.15568012,  2.91827588,  0.73518223],\n",
       "       [ 1.11942861, -0.100242  , -0.91501097]])"
      ]
     },
     "execution_count": 14,
     "metadata": {},
     "output_type": "execute_result"
    }
   ],
   "source": [
    "ss = preprocessing.StandardScaler()\n",
    "ss.fit_transform(train.loc[:, [\"age\", \"bmi\", \"children\"]])"
   ]
  },
  {
   "cell_type": "markdown",
   "id": "591a8735-5b45-4a8d-9410-31cf152534b6",
   "metadata": {},
   "source": [
    "## Nuevas variables"
   ]
  },
  {
   "cell_type": "markdown",
   "id": "85a13b14-053b-49d2-827e-195f10a4d79c",
   "metadata": {},
   "source": [
    "Tal vez es útil para el modelo codificar directamente si una persona no tiene hijos:"
   ]
  },
  {
   "cell_type": "code",
   "execution_count": 15,
   "id": "f25afb72-6594-4b5e-8898-c87c03f8f9b7",
   "metadata": {},
   "outputs": [
    {
     "data": {
      "text/plain": [
       "332      True\n",
       "355      True\n",
       "138     False\n",
       "381      True\n",
       "292     False\n",
       "        ...  \n",
       "1095    False\n",
       "1130    False\n",
       "1294     True\n",
       "860     False\n",
       "1126     True\n",
       "Name: children, Length: 936, dtype: bool"
      ]
     },
     "execution_count": 15,
     "metadata": {},
     "output_type": "execute_result"
    }
   ],
   "source": [
    "train.loc[:, \"children\"] < 1"
   ]
  },
  {
   "cell_type": "markdown",
   "id": "1ee7037b-2203-4504-a6bc-67787987607e",
   "metadata": {},
   "source": [
    "## La forma estándar"
   ]
  },
  {
   "cell_type": "markdown",
   "id": "3f958733-bb5e-4537-a2d8-8106299a46c2",
   "metadata": {},
   "source": [
    "La forma fácil para entrenar un modelo tras todos estos pasos de feature engineering es armar un dataframe con las columnas nuevas y luego hacer el fit-transform."
   ]
  },
  {
   "cell_type": "markdown",
   "id": "8b878960-54f7-4f47-8c00-bdf2694186de",
   "metadata": {},
   "source": [
    "## La forma linda"
   ]
  },
  {
   "cell_type": "code",
   "execution_count": 16,
   "id": "20f21e5f-6035-4f08-91cb-67394433f14e",
   "metadata": {},
   "outputs": [],
   "source": [
    "import pandas as pd\n",
    "from sklearn.pipeline import Pipeline\n",
    "from sklearn.compose import ColumnTransformer\n",
    "from sklearn.linear_model import LinearRegression\n",
    "\n",
    "\n",
    "def add_child_free_column(col):\n",
    "    return col < 1\n",
    "\n",
    "scale_and_impute = Pipeline(\n",
    "    [\n",
    "        (\"mean_imputer\", SimpleImputer(missing_values=np.nan, strategy=\"mean\")),\n",
    "        (\"scaler\", preprocessing.StandardScaler()),\n",
    "    ]\n",
    ")\n",
    "\n",
    "ct = ColumnTransformer(\n",
    "    [\n",
    "        (\"impute_and_scale\", scale_and_impute, [\"bmi\"]),\n",
    "        (\"scaler\", preprocessing.StandardScaler(), [\"age\", \"children\"]),\n",
    "        (\"one_hot_encoder\", preprocessing.OneHotEncoder(), [\"smoker\", \"region\", \"sex\"]),\n",
    "        (\"feature_adder\", preprocessing.FunctionTransformer(add_child_free_column), [\"children\"])\n",
    "        # también: drop o passthrough\n",
    "    ]\n",
    ")\n",
    "\n",
    "pipeline = Pipeline([\n",
    "    (\"column_transformer\", ct),\n",
    "    (\"linear_regression\", LinearRegression())\n",
    "])"
   ]
  },
  {
   "cell_type": "code",
   "execution_count": 17,
   "id": "8426cadc-39aa-4fb3-b579-bf4da71907ac",
   "metadata": {},
   "outputs": [
    {
     "data": {
      "text/plain": [
       "(936, 12)"
      ]
     },
     "execution_count": 17,
     "metadata": {},
     "output_type": "execute_result"
    }
   ],
   "source": [
    "ct.fit_transform(train).shape"
   ]
  },
  {
   "cell_type": "code",
   "execution_count": 18,
   "id": "c4dcad93-5fde-42ad-ab16-02930ffa161f",
   "metadata": {},
   "outputs": [],
   "source": [
    "# pipeline.inverse_transform (!!!)"
   ]
  },
  {
   "cell_type": "code",
   "execution_count": 19,
   "id": "8c3f8288-8222-4188-9fd5-0aa4050688f1",
   "metadata": {},
   "outputs": [
    {
     "data": {
      "text/plain": [
       "Index(['age', 'sex', 'bmi', 'children', 'smoker', 'region', 'charges'], dtype='object')"
      ]
     },
     "execution_count": 19,
     "metadata": {},
     "output_type": "execute_result"
    }
   ],
   "source": [
    "train.columns"
   ]
  },
  {
   "cell_type": "code",
   "execution_count": 20,
   "id": "90feaa6d-cb0f-472c-bfa3-210fdba456c7",
   "metadata": {},
   "outputs": [
    {
     "data": {
      "text/plain": [
       "Pipeline(steps=[('column_transformer',\n",
       "                 ColumnTransformer(transformers=[('impute_and_scale',\n",
       "                                                  Pipeline(steps=[('mean_imputer',\n",
       "                                                                   SimpleImputer()),\n",
       "                                                                  ('scaler',\n",
       "                                                                   StandardScaler())]),\n",
       "                                                  ['bmi']),\n",
       "                                                 ('scaler', StandardScaler(),\n",
       "                                                  ['age', 'children']),\n",
       "                                                 ('one_hot_encoder',\n",
       "                                                  OneHotEncoder(),\n",
       "                                                  ['smoker', 'region', 'sex']),\n",
       "                                                 ('feature_adder',\n",
       "                                                  FunctionTransformer(func=<function add_child_free_column at 0x7fc04ea95a60>),\n",
       "                                                  ['children'])])),\n",
       "                ('linear_regression', LinearRegression())])"
      ]
     },
     "execution_count": 20,
     "metadata": {},
     "output_type": "execute_result"
    }
   ],
   "source": [
    "pipeline.fit(train, train.charges)"
   ]
  },
  {
   "cell_type": "code",
   "execution_count": 21,
   "id": "cb45ab75-eb74-4de9-ada4-ff672726e55d",
   "metadata": {
    "tags": []
   },
   "outputs": [
    {
     "data": {
      "text/plain": [
       "array([13898.5462861 ,  8434.0409866 , 13121.92158304, 36457.00650495,\n",
       "       33649.44788153, 35286.23062745,  5908.91826361,  6393.39168612,\n",
       "       16435.51629781,  8445.25849782])"
      ]
     },
     "execution_count": 21,
     "metadata": {},
     "output_type": "execute_result"
    }
   ],
   "source": [
    "pipeline.predict(train)[:10]"
   ]
  },
  {
   "cell_type": "code",
   "execution_count": 22,
   "id": "f5a477ea-f4a8-4e86-aa04-f215d35aeff4",
   "metadata": {},
   "outputs": [
    {
     "data": {
      "text/plain": [
       "array([ 9.09743735e+03,  6.98094807e+03,  3.68926825e+04,  9.45917863e+03,\n",
       "        2.69583073e+04,  1.11076018e+04, -2.86082153e+01,  1.70819256e+04,\n",
       "        1.05393646e+03,  1.12513631e+04])"
      ]
     },
     "execution_count": 22,
     "metadata": {},
     "output_type": "execute_result"
    }
   ],
   "source": [
    "pipeline.predict(test)[:10]"
   ]
  },
  {
   "cell_type": "code",
   "execution_count": 23,
   "id": "85be594c-0021-4dcb-ba02-fa7e1a3ebcde",
   "metadata": {},
   "outputs": [
    {
     "data": {
      "text/html": [
       "<style>#sk-ee2b196e-93d4-4ff1-9d2b-30169982f108 {color: black;background-color: white;}#sk-ee2b196e-93d4-4ff1-9d2b-30169982f108 pre{padding: 0;}#sk-ee2b196e-93d4-4ff1-9d2b-30169982f108 div.sk-toggleable {background-color: white;}#sk-ee2b196e-93d4-4ff1-9d2b-30169982f108 label.sk-toggleable__label {cursor: pointer;display: block;width: 100%;margin-bottom: 0;padding: 0.2em 0.3em;box-sizing: border-box;text-align: center;}#sk-ee2b196e-93d4-4ff1-9d2b-30169982f108 div.sk-toggleable__content {max-height: 0;max-width: 0;overflow: hidden;text-align: left;background-color: #f0f8ff;}#sk-ee2b196e-93d4-4ff1-9d2b-30169982f108 div.sk-toggleable__content pre {margin: 0.2em;color: black;border-radius: 0.25em;background-color: #f0f8ff;}#sk-ee2b196e-93d4-4ff1-9d2b-30169982f108 input.sk-toggleable__control:checked~div.sk-toggleable__content {max-height: 200px;max-width: 100%;overflow: auto;}#sk-ee2b196e-93d4-4ff1-9d2b-30169982f108 div.sk-estimator input.sk-toggleable__control:checked~label.sk-toggleable__label {background-color: #d4ebff;}#sk-ee2b196e-93d4-4ff1-9d2b-30169982f108 div.sk-label input.sk-toggleable__control:checked~label.sk-toggleable__label {background-color: #d4ebff;}#sk-ee2b196e-93d4-4ff1-9d2b-30169982f108 input.sk-hidden--visually {border: 0;clip: rect(1px 1px 1px 1px);clip: rect(1px, 1px, 1px, 1px);height: 1px;margin: -1px;overflow: hidden;padding: 0;position: absolute;width: 1px;}#sk-ee2b196e-93d4-4ff1-9d2b-30169982f108 div.sk-estimator {font-family: monospace;background-color: #f0f8ff;margin: 0.25em 0.25em;border: 1px dotted black;border-radius: 0.25em;box-sizing: border-box;}#sk-ee2b196e-93d4-4ff1-9d2b-30169982f108 div.sk-estimator:hover {background-color: #d4ebff;}#sk-ee2b196e-93d4-4ff1-9d2b-30169982f108 div.sk-parallel-item::after {content: \"\";width: 100%;border-bottom: 1px solid gray;flex-grow: 1;}#sk-ee2b196e-93d4-4ff1-9d2b-30169982f108 div.sk-label:hover label.sk-toggleable__label {background-color: #d4ebff;}#sk-ee2b196e-93d4-4ff1-9d2b-30169982f108 div.sk-serial::before {content: \"\";position: absolute;border-left: 1px solid gray;box-sizing: border-box;top: 2em;bottom: 0;left: 50%;}#sk-ee2b196e-93d4-4ff1-9d2b-30169982f108 div.sk-serial {display: flex;flex-direction: column;align-items: center;background-color: white;}#sk-ee2b196e-93d4-4ff1-9d2b-30169982f108 div.sk-item {z-index: 1;}#sk-ee2b196e-93d4-4ff1-9d2b-30169982f108 div.sk-parallel {display: flex;align-items: stretch;justify-content: center;background-color: white;}#sk-ee2b196e-93d4-4ff1-9d2b-30169982f108 div.sk-parallel-item {display: flex;flex-direction: column;position: relative;background-color: white;}#sk-ee2b196e-93d4-4ff1-9d2b-30169982f108 div.sk-parallel-item:first-child::after {align-self: flex-end;width: 50%;}#sk-ee2b196e-93d4-4ff1-9d2b-30169982f108 div.sk-parallel-item:last-child::after {align-self: flex-start;width: 50%;}#sk-ee2b196e-93d4-4ff1-9d2b-30169982f108 div.sk-parallel-item:only-child::after {width: 0;}#sk-ee2b196e-93d4-4ff1-9d2b-30169982f108 div.sk-dashed-wrapped {border: 1px dashed gray;margin: 0.2em;box-sizing: border-box;padding-bottom: 0.1em;background-color: white;position: relative;}#sk-ee2b196e-93d4-4ff1-9d2b-30169982f108 div.sk-label label {font-family: monospace;font-weight: bold;background-color: white;display: inline-block;line-height: 1.2em;}#sk-ee2b196e-93d4-4ff1-9d2b-30169982f108 div.sk-label-container {position: relative;z-index: 2;text-align: center;}#sk-ee2b196e-93d4-4ff1-9d2b-30169982f108 div.sk-container {display: inline-block;position: relative;}</style><div id=\"sk-ee2b196e-93d4-4ff1-9d2b-30169982f108\" class\"sk-top-container\"><div class=\"sk-container\"><div class=\"sk-item sk-dashed-wrapped\"><div class=\"sk-label-container\"><div class=\"sk-label sk-toggleable\"><input class=\"sk-toggleable__control sk-hidden--visually\" id=\"f4435814-f9bb-46a5-9d6d-e43cb6015308\" type=\"checkbox\" ><label class=\"sk-toggleable__label\" for=\"f4435814-f9bb-46a5-9d6d-e43cb6015308\">Pipeline</label><div class=\"sk-toggleable__content\"><pre>Pipeline(steps=[('column_transformer',\n",
       "                 ColumnTransformer(transformers=[('impute_and_scale',\n",
       "                                                  Pipeline(steps=[('mean_imputer',\n",
       "                                                                   SimpleImputer()),\n",
       "                                                                  ('scaler',\n",
       "                                                                   StandardScaler())]),\n",
       "                                                  ['bmi']),\n",
       "                                                 ('scaler', StandardScaler(),\n",
       "                                                  ['age', 'children']),\n",
       "                                                 ('one_hot_encoder',\n",
       "                                                  OneHotEncoder(),\n",
       "                                                  ['smoker', 'region', 'sex']),\n",
       "                                                 ('feature_adder',\n",
       "                                                  FunctionTransformer(func=<function add_child_free_column at 0x7fc04ea95a60>),\n",
       "                                                  ['children'])])),\n",
       "                ('linear_regression', LinearRegression())])</pre></div></div></div><div class=\"sk-serial\"><div class=\"sk-item sk-dashed-wrapped\"><div class=\"sk-label-container\"><div class=\"sk-label sk-toggleable\"><input class=\"sk-toggleable__control sk-hidden--visually\" id=\"6ed32e2e-3272-46ab-9019-0b576003631f\" type=\"checkbox\" ><label class=\"sk-toggleable__label\" for=\"6ed32e2e-3272-46ab-9019-0b576003631f\">column_transformer: ColumnTransformer</label><div class=\"sk-toggleable__content\"><pre>ColumnTransformer(transformers=[('impute_and_scale',\n",
       "                                 Pipeline(steps=[('mean_imputer',\n",
       "                                                  SimpleImputer()),\n",
       "                                                 ('scaler', StandardScaler())]),\n",
       "                                 ['bmi']),\n",
       "                                ('scaler', StandardScaler(),\n",
       "                                 ['age', 'children']),\n",
       "                                ('one_hot_encoder', OneHotEncoder(),\n",
       "                                 ['smoker', 'region', 'sex']),\n",
       "                                ('feature_adder',\n",
       "                                 FunctionTransformer(func=<function add_child_free_column at 0x7fc04ea95a60>),\n",
       "                                 ['children'])])</pre></div></div></div><div class=\"sk-parallel\"><div class=\"sk-parallel-item\"><div class=\"sk-item\"><div class=\"sk-label-container\"><div class=\"sk-label sk-toggleable\"><input class=\"sk-toggleable__control sk-hidden--visually\" id=\"0f9feeff-d46c-4b74-b3e0-e5ca7d663397\" type=\"checkbox\" ><label class=\"sk-toggleable__label\" for=\"0f9feeff-d46c-4b74-b3e0-e5ca7d663397\">impute_and_scale</label><div class=\"sk-toggleable__content\"><pre>['bmi']</pre></div></div></div><div class=\"sk-serial\"><div class=\"sk-item\"><div class=\"sk-serial\"><div class=\"sk-item\"><div class=\"sk-estimator sk-toggleable\"><input class=\"sk-toggleable__control sk-hidden--visually\" id=\"ca6fca36-90da-40f6-be84-9002cddd3143\" type=\"checkbox\" ><label class=\"sk-toggleable__label\" for=\"ca6fca36-90da-40f6-be84-9002cddd3143\">SimpleImputer</label><div class=\"sk-toggleable__content\"><pre>SimpleImputer()</pre></div></div></div><div class=\"sk-item\"><div class=\"sk-estimator sk-toggleable\"><input class=\"sk-toggleable__control sk-hidden--visually\" id=\"297ef595-d9cc-43a7-aa41-9c1586eac824\" type=\"checkbox\" ><label class=\"sk-toggleable__label\" for=\"297ef595-d9cc-43a7-aa41-9c1586eac824\">StandardScaler</label><div class=\"sk-toggleable__content\"><pre>StandardScaler()</pre></div></div></div></div></div></div></div></div><div class=\"sk-parallel-item\"><div class=\"sk-item\"><div class=\"sk-label-container\"><div class=\"sk-label sk-toggleable\"><input class=\"sk-toggleable__control sk-hidden--visually\" id=\"78a3d282-6127-47de-bea2-9e0bab4635d6\" type=\"checkbox\" ><label class=\"sk-toggleable__label\" for=\"78a3d282-6127-47de-bea2-9e0bab4635d6\">scaler</label><div class=\"sk-toggleable__content\"><pre>['age', 'children']</pre></div></div></div><div class=\"sk-serial\"><div class=\"sk-item\"><div class=\"sk-estimator sk-toggleable\"><input class=\"sk-toggleable__control sk-hidden--visually\" id=\"e69e0334-1f68-4121-a626-4393723712b3\" type=\"checkbox\" ><label class=\"sk-toggleable__label\" for=\"e69e0334-1f68-4121-a626-4393723712b3\">StandardScaler</label><div class=\"sk-toggleable__content\"><pre>StandardScaler()</pre></div></div></div></div></div></div><div class=\"sk-parallel-item\"><div class=\"sk-item\"><div class=\"sk-label-container\"><div class=\"sk-label sk-toggleable\"><input class=\"sk-toggleable__control sk-hidden--visually\" id=\"a6f62f79-3186-4216-b088-43695a055a4a\" type=\"checkbox\" ><label class=\"sk-toggleable__label\" for=\"a6f62f79-3186-4216-b088-43695a055a4a\">one_hot_encoder</label><div class=\"sk-toggleable__content\"><pre>['smoker', 'region', 'sex']</pre></div></div></div><div class=\"sk-serial\"><div class=\"sk-item\"><div class=\"sk-estimator sk-toggleable\"><input class=\"sk-toggleable__control sk-hidden--visually\" id=\"19ec426b-d350-47b1-ad51-d5e0af8bc409\" type=\"checkbox\" ><label class=\"sk-toggleable__label\" for=\"19ec426b-d350-47b1-ad51-d5e0af8bc409\">OneHotEncoder</label><div class=\"sk-toggleable__content\"><pre>OneHotEncoder()</pre></div></div></div></div></div></div><div class=\"sk-parallel-item\"><div class=\"sk-item\"><div class=\"sk-label-container\"><div class=\"sk-label sk-toggleable\"><input class=\"sk-toggleable__control sk-hidden--visually\" id=\"4ec5d6d8-0221-4d16-9c8b-b9424fc89999\" type=\"checkbox\" ><label class=\"sk-toggleable__label\" for=\"4ec5d6d8-0221-4d16-9c8b-b9424fc89999\">feature_adder</label><div class=\"sk-toggleable__content\"><pre>['children']</pre></div></div></div><div class=\"sk-serial\"><div class=\"sk-item\"><div class=\"sk-estimator sk-toggleable\"><input class=\"sk-toggleable__control sk-hidden--visually\" id=\"1218e1e5-3509-47c9-9f55-b9bd032cbb97\" type=\"checkbox\" ><label class=\"sk-toggleable__label\" for=\"1218e1e5-3509-47c9-9f55-b9bd032cbb97\">FunctionTransformer</label><div class=\"sk-toggleable__content\"><pre>FunctionTransformer(func=<function add_child_free_column at 0x7fc04ea95a60>)</pre></div></div></div></div></div></div></div></div><div class=\"sk-item\"><div class=\"sk-estimator sk-toggleable\"><input class=\"sk-toggleable__control sk-hidden--visually\" id=\"771791c1-4d69-4839-8465-ff50cb4e51ae\" type=\"checkbox\" ><label class=\"sk-toggleable__label\" for=\"771791c1-4d69-4839-8465-ff50cb4e51ae\">LinearRegression</label><div class=\"sk-toggleable__content\"><pre>LinearRegression()</pre></div></div></div></div></div></div></div>"
      ],
      "text/plain": [
       "Pipeline(steps=[('column_transformer',\n",
       "                 ColumnTransformer(transformers=[('impute_and_scale',\n",
       "                                                  Pipeline(steps=[('mean_imputer',\n",
       "                                                                   SimpleImputer()),\n",
       "                                                                  ('scaler',\n",
       "                                                                   StandardScaler())]),\n",
       "                                                  ['bmi']),\n",
       "                                                 ('scaler', StandardScaler(),\n",
       "                                                  ['age', 'children']),\n",
       "                                                 ('one_hot_encoder',\n",
       "                                                  OneHotEncoder(),\n",
       "                                                  ['smoker', 'region', 'sex']),\n",
       "                                                 ('feature_adder',\n",
       "                                                  FunctionTransformer(func=<function add_child_free_column at 0x7fc04ea95a60>),\n",
       "                                                  ['children'])])),\n",
       "                ('linear_regression', LinearRegression())])"
      ]
     },
     "execution_count": 23,
     "metadata": {},
     "output_type": "execute_result"
    }
   ],
   "source": [
    "from sklearn import set_config\n",
    "set_config(display=\"diagram\")\n",
    "pipeline\n",
    "#set_config(display=\"text\")"
   ]
  },
  {
   "cell_type": "markdown",
   "id": "608b5c49-7622-4652-826a-0d92e0147284",
   "metadata": {},
   "source": [
    "¿Cuáles son los beneficios de usar un pipeline?\n",
    "\n",
    "- Facilita la reproducibilidad\n",
    "    - No son celdas separadas: se corre siempre el mismo pipeline\n",
    "    - Deshabilitar un paso o agregar otro es trivial\n",
    "    - Es más fácil pasar el código de un notebook a una aplicación (cli, web app, etc.)\n",
    "- Es imposible fittear parámetros del feature engineering sobre los datos de test\n",
    "- Evita la duplicación de código y el código _espagueti_ \n",
    "\n",
    "¿Cuáles son las desventajas?\n",
    "\n",
    "- Para iterar al principio puede ser más lento\n",
    "- Perdemos el detalle del paso a paso"
   ]
  },
  {
   "cell_type": "markdown",
   "id": "7017d9af-117c-4917-8b8d-a5a95fc3f0a6",
   "metadata": {},
   "source": [
    "### Métricas"
   ]
  },
  {
   "cell_type": "code",
   "execution_count": 24,
   "id": "48f2c8bb-195a-43cb-9dba-fe1c11c8a9f5",
   "metadata": {},
   "outputs": [],
   "source": [
    "train_preds = pipeline.predict(train)\n",
    "test_preds = pipeline.predict(test)"
   ]
  },
  {
   "cell_type": "code",
   "execution_count": 25,
   "id": "e2a35b4d-55dc-49f8-9795-32ea70be78d8",
   "metadata": {},
   "outputs": [
    {
     "name": "stdout",
     "output_type": "stream",
     "text": [
      "Train MAE: 4256.67\n",
      "Test MAE: 4096.97\n",
      "Train R2: 0.65\n",
      "Test R2: 0.69\n"
     ]
    }
   ],
   "source": [
    "from sklearn import metrics\n",
    "\n",
    "def get_pipeline_preds(pipeline, train, test):\n",
    "    train_preds = pipeline.predict(train)\n",
    "    test_preds = pipeline.predict(test)\n",
    "    return train_preds, test_preds\n",
    "\n",
    "def print_metrics(train, train_preds, test, test_preds):\n",
    "\n",
    "    print(f\"Train MAE: {metrics.mean_absolute_error(train_preds, train.charges):.2f}\", )\n",
    "    print(f\"Test MAE: {metrics.mean_absolute_error(test_preds, test.charges):.2f}\")\n",
    "\n",
    "    print(f\"Train R2: {metrics.r2_score(train_preds, train.charges):.2f}\", )\n",
    "    print(f\"Test R2: {metrics.r2_score(test_preds, test.charges):.2f}\")\n",
    "\n",
    "train_preds, test_preds = get_pipeline_preds(pipeline, train, test)\n",
    "print_metrics(train, train_preds, test, test_preds)"
   ]
  },
  {
   "cell_type": "code",
   "execution_count": 26,
   "id": "22a21c4a-49b1-426a-a115-34dc3b64fea7",
   "metadata": {},
   "outputs": [
    {
     "data": {
      "image/png": "[encoded data removed]",
      "text/plain": [
       "<Figure size 900x600 with 1 Axes>"
      ]
     },
     "metadata": {},
     "output_type": "display_data"
    }
   ],
   "source": [
    "from matplotlib import pyplot as plt\n",
    "\n",
    "plt.figure(dpi=150, facecolor=\"white\")\n",
    "plt.scatter(test_preds, test.charges, alpha=0.5)\n",
    "max_val = max(test_preds.max(), test.charges.max())\n",
    "plt.ylim(0, max_val)\n",
    "plt.xlim(0, max_val)\n",
    "plt.title(\"Prediction plot\")\n",
    "plt.xlabel(\"Predicted value\")\n",
    "plt.ylabel(\"Real value\")\n",
    "plt.grid()\n"
   ]
  },
  {
   "cell_type": "markdown",
   "id": "306c8a2c-fa19-435b-95b9-5859a3a6c902",
   "metadata": {},
   "source": [
    "## Usando validación cruzada"
   ]
  },
  {
   "cell_type": "code",
   "execution_count": 27,
   "id": "9bd26fb9-5f0b-4a86-ad9c-bb1634c3587f",
   "metadata": {},
   "outputs": [
    {
     "data": {
      "text/plain": [
       "array([4279.63420998, 4339.50324439, 4543.2879993 , 4361.74906216,\n",
       "       4027.40295033])"
      ]
     },
     "execution_count": 27,
     "metadata": {},
     "output_type": "execute_result"
    }
   ],
   "source": [
    "from sklearn.model_selection import cross_val_score\n",
    "\n",
    "val_scores = cross_val_score(\n",
    "    pipeline, \n",
    "    train, \n",
    "    train.charges, \n",
    "    cv=5, \n",
    "    scoring=metrics.make_scorer(metrics.mean_absolute_error)\n",
    ")\n",
    "val_scores"
   ]
  },
  {
   "cell_type": "code",
   "execution_count": 28,
   "id": "66a0007b-0314-43c6-9824-e09d6ceadc44",
   "metadata": {},
   "outputs": [
    {
     "data": {
      "text/plain": [
       "4310.315493232167"
      ]
     },
     "execution_count": 28,
     "metadata": {},
     "output_type": "execute_result"
    }
   ],
   "source": [
    "np.mean(val_scores)"
   ]
  },
  {
   "cell_type": "markdown",
   "id": "565940d7-ca9a-4872-a601-22587c7ac182",
   "metadata": {},
   "source": [
    "## Usando random forests"
   ]
  },
  {
   "cell_type": "markdown",
   "id": "e3de0765-dd72-4939-ab86-17d2da743a6f",
   "metadata": {},
   "source": [
    "### No nos perdamos el árbol por ver el bosque"
   ]
  },
  {
   "cell_type": "markdown",
   "id": "cf270c7f-9271-4712-9e5e-2e29ded31dad",
   "metadata": {},
   "source": [
    "Supongamos que queremos predecir los gastos médicos de un paciente basándonos en la edad y el índice de masa corporal de los pacientes (como en la figura de abajo).\n",
    "\n",
    "Para construir un modelo de árbol de decisión que nos permita realizar esta predicción debemos seguir los siguientes pasos:\n",
    "\n",
    "* Definir un conjunto de regiones diviendo los pacientes por sus valores en alguno de estos atributos.\n",
    "* Dentro de las regiones resultantes tomar como valor predicho de los gastos de un paciente al promedio de los gastos de todos los pacientes en esa región.\n",
    " \n",
    "A su vez se puede continuar iterando este algoritmo elegiendo otro atributo o el mismo y particionando cada región en subregiones.\n",
    "Este particionamiento define o puede ser representado como una estructura de árbol:\n",
    "\n",
    "* Las regiones son los nodos terminales u hojas\n",
    "* Los valores utilizados para partir al espacio de atributos son los nodos internos.\n",
    "* Las aristas que conectan los nodos son las ramas.\n"
   ]
  },
  {
   "cell_type": "markdown",
   "id": "1bc1546e-7687-4fb6-97b1-f859b768b930",
   "metadata": {},
   "source": [
    "![tree](https://camo.githubusercontent.com/e7d9b43466790d6e5fe9f1bc70660ac6d631509d3ec714d23a6d82945d620fc5/68747470733a2f2f7261772e67697468756275736572636f6e74656e742e636f6d2f7065746f62656e732f696e74726f64756363696f6e2d6d6c2d61706c696361646f2f6d61737465722f666967757265732f6465636973696f6e2d747265652f73696d706c655f747265652e706e67)"
   ]
  },
  {
   "cell_type": "markdown",
   "id": "e0914c94-8c42-40f3-9419-f9270aeab634",
   "metadata": {},
   "source": [
    "![tree-cartesian](https://camo.githubusercontent.com/76c33de54fea918c4f433c2642fe94748a088356c6094773c076c17cdb212997/68747470733a2f2f7261772e67697468756275736572636f6e74656e742e636f6d2f7065746f62656e732f696e74726f64756363696f6e2d6d6c2d61706c696361646f2f6d61737465722f666967757265732f6465636973696f6e2d747265652f747265655f726567696f6e732e706e67)"
   ]
  },
  {
   "cell_type": "markdown",
   "id": "1da54e13-86b0-4de7-a5f9-002817162566",
   "metadata": {},
   "source": [
    "¿Cómo definimos un poco más formalmente las regiones para construir un árbol?\n",
    "\n",
    "Buscamos \"rectangulos\" (o cajas) $R_{1}, R_{2}, \\cdots, R_{J}$ que minimicen el ECM\n",
    "\n",
    "$$\\sum_{j=1}^{J}\\sum_{i\\in R_{j}}(y_{i} - \\hat{y}_{R_{j}})^{2}$$\n",
    " \n",
    "\n",
    "Para ello tomamos un enfoque top-down y greedy  -- empezamos con todas las observaciones en una única región y en cada etapa hacemos la mejor partición posible.\n",
    "\n",
    "\n",
    "1. Elegimos la variable $X_{j}$ y punto de corte $s$ tal que partir el espacio de atributos en regiones $\\{X|X_{j} < s\\}$ y $\\{X|X_{j} >= s\\}$ minimice el ECM\n",
    "2. Repetimos 1. para cada sub-region resultante hasta cumplir algún criterio de parada (por ejemplo una cota mínima de observaciones en cada región)\n"
   ]
  },
  {
   "cell_type": "markdown",
   "id": "d62eb356-53cd-46f3-8ad2-cfd7640c4f96",
   "metadata": {},
   "source": [
    "#### Propuesta de ejercicio\n",
    "\n",
    "Como ejercicio, adaptar el Pipeline anterior para fittear un árbol. Identificar cuáles pasos de feature engineering no son necesarios para este modelo y eliminarlos.\n",
    "\n",
    "Como referencia para armar un árbol y visualizarlo, se puede ver la documentación de scikit-learn: https://scikit-learn.org/stable/modules/tree.html"
   ]
  },
  {
   "cell_type": "markdown",
   "id": "c20ea5b1-7fad-4ce3-91b4-571ab4c7d33a",
   "metadata": {},
   "source": [
    "### Ahora: el bosque"
   ]
  },
  {
   "cell_type": "markdown",
   "id": "3b295561-b229-42ce-be84-6001214771cd",
   "metadata": {},
   "source": [
    "![rf](https://www.tibco.com/sites/tibco/files/media_entity/2021-05/random-forest-diagram.svg)"
   ]
  },
  {
   "cell_type": "code",
   "execution_count": 29,
   "id": "da0e929d-805b-45b8-bc3f-7cf9869bd09e",
   "metadata": {},
   "outputs": [],
   "source": [
    "from sklearn.ensemble import RandomForestRegressor\n",
    "pipeline_rf = Pipeline([\n",
    "    (\"column_transformer\", ct),\n",
    "    (\"forest\", RandomForestRegressor(n_estimators=100))\n",
    "])\n"
   ]
  },
  {
   "cell_type": "code",
   "execution_count": 30,
   "id": "b7e0c469-3119-4cfd-877e-c53df481f808",
   "metadata": {},
   "outputs": [
    {
     "data": {
      "text/plain": [
       "''"
      ]
     },
     "execution_count": 30,
     "metadata": {},
     "output_type": "execute_result"
    }
   ],
   "source": [
    "pipeline_rf.fit(train, train.charges)\n",
    ";"
   ]
  },
  {
   "cell_type": "code",
   "execution_count": 31,
   "id": "ed663639-4895-4ee8-b614-3386dd0d8ed2",
   "metadata": {},
   "outputs": [
    {
     "name": "stdout",
     "output_type": "stream",
     "text": [
      "Train MAE: 1063.69\n",
      "Test MAE: 2501.51\n",
      "Train R2: 0.97\n",
      "Test R2: 0.84\n"
     ]
    }
   ],
   "source": [
    "train_preds, test_preds = get_pipeline_preds(pipeline_rf, train, test)\n",
    "\n",
    "print_metrics(train, train_preds, test, test_preds)"
   ]
  },
  {
   "cell_type": "markdown",
   "id": "1e7acdfc-8f25-46d5-8162-c1d0919f0f79",
   "metadata": {},
   "source": [
    "### Buscando hiperparámetros con validación cruzada para evitar overfitting"
   ]
  },
  {
   "cell_type": "code",
   "execution_count": 32,
   "id": "52898fff-ced1-477e-a43f-11c1421b9eb7",
   "metadata": {},
   "outputs": [
    {
     "data": {
      "text/html": [
       "<style>#sk-f28d9b55-c0c9-4fc4-9769-b63358fe0a1e {color: black;background-color: white;}#sk-f28d9b55-c0c9-4fc4-9769-b63358fe0a1e pre{padding: 0;}#sk-f28d9b55-c0c9-4fc4-9769-b63358fe0a1e div.sk-toggleable {background-color: white;}#sk-f28d9b55-c0c9-4fc4-9769-b63358fe0a1e label.sk-toggleable__label {cursor: pointer;display: block;width: 100%;margin-bottom: 0;padding: 0.2em 0.3em;box-sizing: border-box;text-align: center;}#sk-f28d9b55-c0c9-4fc4-9769-b63358fe0a1e div.sk-toggleable__content {max-height: 0;max-width: 0;overflow: hidden;text-align: left;background-color: #f0f8ff;}#sk-f28d9b55-c0c9-4fc4-9769-b63358fe0a1e div.sk-toggleable__content pre {margin: 0.2em;color: black;border-radius: 0.25em;background-color: #f0f8ff;}#sk-f28d9b55-c0c9-4fc4-9769-b63358fe0a1e input.sk-toggleable__control:checked~div.sk-toggleable__content {max-height: 200px;max-width: 100%;overflow: auto;}#sk-f28d9b55-c0c9-4fc4-9769-b63358fe0a1e div.sk-estimator input.sk-toggleable__control:checked~label.sk-toggleable__label {background-color: #d4ebff;}#sk-f28d9b55-c0c9-4fc4-9769-b63358fe0a1e div.sk-label input.sk-toggleable__control:checked~label.sk-toggleable__label {background-color: #d4ebff;}#sk-f28d9b55-c0c9-4fc4-9769-b63358fe0a1e input.sk-hidden--visually {border: 0;clip: rect(1px 1px 1px 1px);clip: rect(1px, 1px, 1px, 1px);height: 1px;margin: -1px;overflow: hidden;padding: 0;position: absolute;width: 1px;}#sk-f28d9b55-c0c9-4fc4-9769-b63358fe0a1e div.sk-estimator {font-family: monospace;background-color: #f0f8ff;margin: 0.25em 0.25em;border: 1px dotted black;border-radius: 0.25em;box-sizing: border-box;}#sk-f28d9b55-c0c9-4fc4-9769-b63358fe0a1e div.sk-estimator:hover {background-color: #d4ebff;}#sk-f28d9b55-c0c9-4fc4-9769-b63358fe0a1e div.sk-parallel-item::after {content: \"\";width: 100%;border-bottom: 1px solid gray;flex-grow: 1;}#sk-f28d9b55-c0c9-4fc4-9769-b63358fe0a1e div.sk-label:hover label.sk-toggleable__label {background-color: #d4ebff;}#sk-f28d9b55-c0c9-4fc4-9769-b63358fe0a1e div.sk-serial::before {content: \"\";position: absolute;border-left: 1px solid gray;box-sizing: border-box;top: 2em;bottom: 0;left: 50%;}#sk-f28d9b55-c0c9-4fc4-9769-b63358fe0a1e div.sk-serial {display: flex;flex-direction: column;align-items: center;background-color: white;}#sk-f28d9b55-c0c9-4fc4-9769-b63358fe0a1e div.sk-item {z-index: 1;}#sk-f28d9b55-c0c9-4fc4-9769-b63358fe0a1e div.sk-parallel {display: flex;align-items: stretch;justify-content: center;background-color: white;}#sk-f28d9b55-c0c9-4fc4-9769-b63358fe0a1e div.sk-parallel-item {display: flex;flex-direction: column;position: relative;background-color: white;}#sk-f28d9b55-c0c9-4fc4-9769-b63358fe0a1e div.sk-parallel-item:first-child::after {align-self: flex-end;width: 50%;}#sk-f28d9b55-c0c9-4fc4-9769-b63358fe0a1e div.sk-parallel-item:last-child::after {align-self: flex-start;width: 50%;}#sk-f28d9b55-c0c9-4fc4-9769-b63358fe0a1e div.sk-parallel-item:only-child::after {width: 0;}#sk-f28d9b55-c0c9-4fc4-9769-b63358fe0a1e div.sk-dashed-wrapped {border: 1px dashed gray;margin: 0.2em;box-sizing: border-box;padding-bottom: 0.1em;background-color: white;position: relative;}#sk-f28d9b55-c0c9-4fc4-9769-b63358fe0a1e div.sk-label label {font-family: monospace;font-weight: bold;background-color: white;display: inline-block;line-height: 1.2em;}#sk-f28d9b55-c0c9-4fc4-9769-b63358fe0a1e div.sk-label-container {position: relative;z-index: 2;text-align: center;}#sk-f28d9b55-c0c9-4fc4-9769-b63358fe0a1e div.sk-container {display: inline-block;position: relative;}</style><div id=\"sk-f28d9b55-c0c9-4fc4-9769-b63358fe0a1e\" class\"sk-top-container\"><div class=\"sk-container\"><div class=\"sk-item sk-dashed-wrapped\"><div class=\"sk-label-container\"><div class=\"sk-label sk-toggleable\"><input class=\"sk-toggleable__control sk-hidden--visually\" id=\"c9e311e9-9227-4096-8e84-43a82a32dced\" type=\"checkbox\" ><label class=\"sk-toggleable__label\" for=\"c9e311e9-9227-4096-8e84-43a82a32dced\">GridSearchCV</label><div class=\"sk-toggleable__content\"><pre>GridSearchCV(estimator=Pipeline(steps=[('column_transformer',\n",
       "                                        ColumnTransformer(transformers=[('impute_and_scale',\n",
       "                                                                         Pipeline(steps=[('mean_imputer',\n",
       "                                                                                          SimpleImputer()),\n",
       "                                                                                         ('scaler',\n",
       "                                                                                          StandardScaler())]),\n",
       "                                                                         ['bmi']),\n",
       "                                                                        ('scaler',\n",
       "                                                                         StandardScaler(),\n",
       "                                                                         ['age',\n",
       "                                                                          'children']),\n",
       "                                                                        ('one_hot_encoder',\n",
       "                                                                         OneHotEncoder(),\n",
       "                                                                         ['smoker',\n",
       "                                                                          'region',\n",
       "                                                                          'sex']),\n",
       "                                                                        ('feature_adder',\n",
       "                                                                         FunctionTransformer(func=<function add_child_free_column at 0x7fc04ea95a60>),\n",
       "                                                                         ['children'])])),\n",
       "                                       ('forest', RandomForestRegressor())]),\n",
       "             n_jobs=1, param_grid={'forest__n_estimators': [5, 10, 50, 100]},\n",
       "             scoring=make_scorer(mean_absolute_error))</pre></div></div></div><div class=\"sk-parallel\"><div class=\"sk-parallel-item\"><div class=\"sk-item\"><div class=\"sk-serial\"><div class=\"sk-item\"><div class=\"sk-serial\"><div class=\"sk-item sk-dashed-wrapped\"><div class=\"sk-label-container\"><div class=\"sk-label sk-toggleable\"><input class=\"sk-toggleable__control sk-hidden--visually\" id=\"c5931018-e39f-4098-a7b1-96233b6c7adf\" type=\"checkbox\" ><label class=\"sk-toggleable__label\" for=\"c5931018-e39f-4098-a7b1-96233b6c7adf\">column_transformer: ColumnTransformer</label><div class=\"sk-toggleable__content\"><pre>ColumnTransformer(transformers=[('impute_and_scale',\n",
       "                                 Pipeline(steps=[('mean_imputer',\n",
       "                                                  SimpleImputer()),\n",
       "                                                 ('scaler', StandardScaler())]),\n",
       "                                 ['bmi']),\n",
       "                                ('scaler', StandardScaler(),\n",
       "                                 ['age', 'children']),\n",
       "                                ('one_hot_encoder', OneHotEncoder(),\n",
       "                                 ['smoker', 'region', 'sex']),\n",
       "                                ('feature_adder',\n",
       "                                 FunctionTransformer(func=<function add_child_free_column at 0x7fc04ea95a60>),\n",
       "                                 ['children'])])</pre></div></div></div><div class=\"sk-parallel\"><div class=\"sk-parallel-item\"><div class=\"sk-item\"><div class=\"sk-label-container\"><div class=\"sk-label sk-toggleable\"><input class=\"sk-toggleable__control sk-hidden--visually\" id=\"7a14fe13-119e-47b1-b428-ed77dec4de35\" type=\"checkbox\" ><label class=\"sk-toggleable__label\" for=\"7a14fe13-119e-47b1-b428-ed77dec4de35\">impute_and_scale</label><div class=\"sk-toggleable__content\"><pre>['bmi']</pre></div></div></div><div class=\"sk-serial\"><div class=\"sk-item\"><div class=\"sk-serial\"><div class=\"sk-item\"><div class=\"sk-estimator sk-toggleable\"><input class=\"sk-toggleable__control sk-hidden--visually\" id=\"c1ca171c-2fae-4a7c-9d0d-64b76dd9384c\" type=\"checkbox\" ><label class=\"sk-toggleable__label\" for=\"c1ca171c-2fae-4a7c-9d0d-64b76dd9384c\">SimpleImputer</label><div class=\"sk-toggleable__content\"><pre>SimpleImputer()</pre></div></div></div><div class=\"sk-item\"><div class=\"sk-estimator sk-toggleable\"><input class=\"sk-toggleable__control sk-hidden--visually\" id=\"b7d8c43b-6ace-4fe7-8f1e-29e7e36a09db\" type=\"checkbox\" ><label class=\"sk-toggleable__label\" for=\"b7d8c43b-6ace-4fe7-8f1e-29e7e36a09db\">StandardScaler</label><div class=\"sk-toggleable__content\"><pre>StandardScaler()</pre></div></div></div></div></div></div></div></div><div class=\"sk-parallel-item\"><div class=\"sk-item\"><div class=\"sk-label-container\"><div class=\"sk-label sk-toggleable\"><input class=\"sk-toggleable__control sk-hidden--visually\" id=\"8e2c5f3a-4609-48ea-9463-0b2cfa0dad61\" type=\"checkbox\" ><label class=\"sk-toggleable__label\" for=\"8e2c5f3a-4609-48ea-9463-0b2cfa0dad61\">scaler</label><div class=\"sk-toggleable__content\"><pre>['age', 'children']</pre></div></div></div><div class=\"sk-serial\"><div class=\"sk-item\"><div class=\"sk-estimator sk-toggleable\"><input class=\"sk-toggleable__control sk-hidden--visually\" id=\"1f0f4fc1-6b4a-4309-ae1d-d7fbf1fddcee\" type=\"checkbox\" ><label class=\"sk-toggleable__label\" for=\"1f0f4fc1-6b4a-4309-ae1d-d7fbf1fddcee\">StandardScaler</label><div class=\"sk-toggleable__content\"><pre>StandardScaler()</pre></div></div></div></div></div></div><div class=\"sk-parallel-item\"><div class=\"sk-item\"><div class=\"sk-label-container\"><div class=\"sk-label sk-toggleable\"><input class=\"sk-toggleable__control sk-hidden--visually\" id=\"0a7b6ec4-f82f-43e1-960e-1043ff5c2ebe\" type=\"checkbox\" ><label class=\"sk-toggleable__label\" for=\"0a7b6ec4-f82f-43e1-960e-1043ff5c2ebe\">one_hot_encoder</label><div class=\"sk-toggleable__content\"><pre>['smoker', 'region', 'sex']</pre></div></div></div><div class=\"sk-serial\"><div class=\"sk-item\"><div class=\"sk-estimator sk-toggleable\"><input class=\"sk-toggleable__control sk-hidden--visually\" id=\"6fde2cea-8a26-413a-bc30-02cd4865338c\" type=\"checkbox\" ><label class=\"sk-toggleable__label\" for=\"6fde2cea-8a26-413a-bc30-02cd4865338c\">OneHotEncoder</label><div class=\"sk-toggleable__content\"><pre>OneHotEncoder()</pre></div></div></div></div></div></div><div class=\"sk-parallel-item\"><div class=\"sk-item\"><div class=\"sk-label-container\"><div class=\"sk-label sk-toggleable\"><input class=\"sk-toggleable__control sk-hidden--visually\" id=\"6fe232c3-0d06-4343-9b89-b9b1aff33e0d\" type=\"checkbox\" ><label class=\"sk-toggleable__label\" for=\"6fe232c3-0d06-4343-9b89-b9b1aff33e0d\">feature_adder</label><div class=\"sk-toggleable__content\"><pre>['children']</pre></div></div></div><div class=\"sk-serial\"><div class=\"sk-item\"><div class=\"sk-estimator sk-toggleable\"><input class=\"sk-toggleable__control sk-hidden--visually\" id=\"81e68aee-1c82-487a-9686-eacdb2a721b4\" type=\"checkbox\" ><label class=\"sk-toggleable__label\" for=\"81e68aee-1c82-487a-9686-eacdb2a721b4\">FunctionTransformer</label><div class=\"sk-toggleable__content\"><pre>FunctionTransformer(func=<function add_child_free_column at 0x7fc04ea95a60>)</pre></div></div></div></div></div></div></div></div><div class=\"sk-item\"><div class=\"sk-estimator sk-toggleable\"><input class=\"sk-toggleable__control sk-hidden--visually\" id=\"2f832550-eb08-4273-bb22-9f3fd798914f\" type=\"checkbox\" ><label class=\"sk-toggleable__label\" for=\"2f832550-eb08-4273-bb22-9f3fd798914f\">RandomForestRegressor</label><div class=\"sk-toggleable__content\"><pre>RandomForestRegressor()</pre></div></div></div></div></div></div></div></div></div></div></div></div>"
      ],
      "text/plain": [
       "GridSearchCV(estimator=Pipeline(steps=[('column_transformer',\n",
       "                                        ColumnTransformer(transformers=[('impute_and_scale',\n",
       "                                                                         Pipeline(steps=[('mean_imputer',\n",
       "                                                                                          SimpleImputer()),\n",
       "                                                                                         ('scaler',\n",
       "                                                                                          StandardScaler())]),\n",
       "                                                                         ['bmi']),\n",
       "                                                                        ('scaler',\n",
       "                                                                         StandardScaler(),\n",
       "                                                                         ['age',\n",
       "                                                                          'children']),\n",
       "                                                                        ('one_hot_encoder',\n",
       "                                                                         OneHotEncoder(),\n",
       "                                                                         ['smoker',\n",
       "                                                                          'region',\n",
       "                                                                          'sex']),\n",
       "                                                                        ('feature_adder',\n",
       "                                                                         FunctionTransformer(func=<function add_child_free_column at 0x7fc04ea95a60>),\n",
       "                                                                         ['children'])])),\n",
       "                                       ('forest', RandomForestRegressor())]),\n",
       "             n_jobs=1, param_grid={'forest__n_estimators': [5, 10, 50, 100]},\n",
       "             scoring=make_scorer(mean_absolute_error))"
      ]
     },
     "execution_count": 32,
     "metadata": {},
     "output_type": "execute_result"
    }
   ],
   "source": [
    "from sklearn.model_selection import GridSearchCV\n",
    "\n",
    "param_grid = {\n",
    "    \"forest__n_estimators\": [5, 10, 50, 100]\n",
    "}\n",
    "search = GridSearchCV(pipeline_rf, param_grid, n_jobs=1, scoring=metrics.make_scorer(metrics.mean_absolute_error))\n",
    "search.fit(train, train.charges)"
   ]
  },
  {
   "cell_type": "code",
   "execution_count": 33,
   "id": "9daa0372-9d52-41e8-88cc-4f7ed1a290d4",
   "metadata": {},
   "outputs": [
    {
     "data": {
      "text/plain": [
       "{'forest__n_estimators': 5}"
      ]
     },
     "execution_count": 33,
     "metadata": {},
     "output_type": "execute_result"
    }
   ],
   "source": [
    "search.best_params_"
   ]
  },
  {
   "cell_type": "code",
   "execution_count": 34,
   "id": "8ac1d0e8-8aac-4347-86c0-fb11248c6f27",
   "metadata": {},
   "outputs": [
    {
     "data": {
      "text/plain": [
       "{'mean_fit_time': array([0.02253704, 0.03116913, 0.12622595, 0.22597389]),\n",
       " 'std_fit_time': array([0.00096223, 0.00118178, 0.00887554, 0.01085219]),\n",
       " 'mean_score_time': array([0.00649552, 0.00688915, 0.01224527, 0.01589742]),\n",
       " 'std_score_time': array([0.00041623, 0.00024126, 0.00257812, 0.00059229]),\n",
       " 'param_forest__n_estimators': masked_array(data=[5, 10, 50, 100],\n",
       "              mask=[False, False, False, False],\n",
       "        fill_value='?',\n",
       "             dtype=object),\n",
       " 'params': [{'forest__n_estimators': 5},\n",
       "  {'forest__n_estimators': 10},\n",
       "  {'forest__n_estimators': 50},\n",
       "  {'forest__n_estimators': 100}],\n",
       " 'split0_test_score': array([3168.54442738, 2864.20313396, 2849.86307795, 2725.91794228]),\n",
       " 'split1_test_score': array([2926.43155184, 3098.16857062, 2900.70501521, 2916.60184673]),\n",
       " 'split2_test_score': array([3379.63229984, 3236.7732595 , 3191.46780545, 3083.32171915]),\n",
       " 'split3_test_score': array([3288.74746395, 3009.05045634, 3054.657459  , 3051.11079236]),\n",
       " 'split4_test_score': array([3429.5519471 , 3185.39308933, 3215.66098093, 3284.22718999]),\n",
       " 'mean_test_score': array([3238.58153802, 3078.71770195, 3042.47086771, 3012.2358981 ]),\n",
       " 'std_test_score': array([179.56861943, 132.37035833, 148.01265715, 185.29304241]),\n",
       " 'rank_test_score': array([1, 2, 3, 4], dtype=int32)}"
      ]
     },
     "execution_count": 34,
     "metadata": {},
     "output_type": "execute_result"
    }
   ],
   "source": [
    "search.cv_results_"
   ]
  },
  {
   "cell_type": "code",
   "execution_count": null,
   "id": "80d3c3ec-6e76-4b4e-94de-e0e2dc0f6d35",
   "metadata": {},
   "outputs": [],
   "source": []
  },
  {
   "cell_type": "markdown",
   "id": "9df3d1c7-d74a-4521-984c-b544a3a371d2",
   "metadata": {},
   "source": [
    "## Ejercicio\n",
    "\n",
    "Utilizando lo aprendido en este notebook, te pedimos desarollar un pipeline para predecir el precio de casas del _Ames Housing dataset_.\n",
    "\n",
    "El link a la competencia es el siguiente: https://www.kaggle.com/c/home-data-for-ml-course/data\n",
    "\n",
    "Un buen primer paso es explorar los datos, y después fittear un modelo sencillo a partir del cual podemos obtener el error de base (baseline).\n",
    "\n",
    "Luego, avanzar con feature engineering progresivamente y verificando como varía la métrica de performance.\n",
    "\n",
    "Eventualmente, cuando estés satisfecho con la performance, podés bajar el archivo test.csv de la competencia y verificar la capacidad de generalización del modelo.\n",
    "\n",
    "Como paso final se puede enviar las predicciones a la competencia siguiendo el formato descripto en la misma: https://www.kaggle.com/c/home-data-for-ml-course/overview/evaluation\n",
    "\n",
    "Para esto hay que generar un archivo CSV con el formato designado y subirlo manualmente a https://www.kaggle.com/c/home-data-for-ml-course/submit"
   ]
  }
 ],
 "metadata": {
  "kernelspec": {
   "display_name": "waterfall-optimizer-nb",
   "language": "python",
   "name": "waterfall-optimizer-nb"
  },
  "language_info": {
   "codemirror_mode": {
    "name": "ipython",
    "version": 3
   },
   "file_extension": ".py",
   "mimetype": "text/x-python",
   "name": "python",
   "nbconvert_exporter": "python",
   "pygments_lexer": "ipython3",
   "version": "3.8.2"
  }
 },
 "nbformat": 4,
 "nbformat_minor": 5
}
